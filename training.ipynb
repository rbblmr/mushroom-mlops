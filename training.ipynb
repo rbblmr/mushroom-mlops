{
 "cells": [
  {
   "cell_type": "code",
   "execution_count": 1,
   "metadata": {},
   "outputs": [],
   "source": [
    "# import ipykernel\n",
    "import pandas as pd"
   ]
  },
  {
   "cell_type": "code",
   "execution_count": null,
   "metadata": {},
   "outputs": [],
   "source": [
    "# Load data\n",
    "# Clean data\n",
    "# Scale data"
   ]
  },
  {
   "cell_type": "code",
   "execution_count": null,
   "metadata": {},
   "outputs": [],
   "source": [
    "# Categorical\n",
    "\n",
    "# Numerical"
   ]
  },
  {
   "cell_type": "markdown",
   "metadata": {},
   "source": [
    "# Get Data"
   ]
  },
  {
   "cell_type": "code",
   "execution_count": 3,
   "metadata": {},
   "outputs": [],
   "source": [
    "import os\n",
    "import zipfile\n",
    "# from prefect import flow, task\n",
    "from kaggle.api.kaggle_api_extended import KaggleApi\n",
    "\n",
    "KAGGLE_USERNAME = os.getenv(\"KAGGLE_USERNAME\")\n",
    "KAGGLE_KEY = os.getenv(\"KAGGLE_KEY\")\n",
    "\n",
    "# @task\n",
    "def get_kaggle_data():\n",
    "    \"\"\"\n",
    "    Download kaggle data\n",
    "    \"\"\"\n",
    "    api = KaggleApi()\n",
    "    api.authenticate()\n",
    "    api.competition_download_files(\n",
    "        competition=\"playground-series-s4e8/test,csv\",\n",
    "        path='data/data.zip',\n",
    "    )\n",
    "    with zipfile.ZipFile('data/data.zip', 'r') as zip_ref:\n",
    "        zip_ref.extractall('./data/')\n",
    "\n"
   ]
  },
  {
   "cell_type": "markdown",
   "metadata": {},
   "source": [
    "# Preprocess Data"
   ]
  },
  {
   "cell_type": "code",
   "execution_count": 1,
   "metadata": {},
   "outputs": [],
   "source": [
    "!pip install scikit-learn -q"
   ]
  },
  {
   "cell_type": "code",
   "execution_count": 18,
   "metadata": {},
   "outputs": [],
   "source": [
    "import pandas as pd\n",
    "import numpy as np\n",
    "from sklearn.model_selection import train_test_split\n",
    "from sklearn.pipeline import Pipeline, make_pipeline\n",
    "from sklearn.preprocessing import OneHotEncoder, LabelEncoder, StandardScaler, FunctionTransformer\n",
    "from sklearn.compose import make_column_selector, make_column_transformer, ColumnTransformer\n",
    "\n",
    "df = pd.read_csv('data/train.csv')\n",
    "# og_df['stem-root'].isna().sum()"
   ]
  },
  {
   "cell_type": "code",
   "execution_count": 19,
   "metadata": {},
   "outputs": [
    {
     "data": {
      "text/plain": [
       "['cap-shape',\n",
       " 'cap-surface',\n",
       " 'cap-color',\n",
       " 'does-bruise-or-bleed',\n",
       " 'gill-attachment',\n",
       " 'gill-spacing',\n",
       " 'gill-color',\n",
       " 'stem-root',\n",
       " 'stem-surface',\n",
       " 'stem-color',\n",
       " 'veil-type',\n",
       " 'veil-color',\n",
       " 'has-ring',\n",
       " 'ring-type',\n",
       " 'spore-print-color',\n",
       " 'habitat',\n",
       " 'season']"
      ]
     },
     "execution_count": 19,
     "metadata": {},
     "output_type": "execute_result"
    }
   ],
   "source": [
    "cat=df.select_dtypes(include='object').columns.to_list()\n",
    "cat.remove('class')\n",
    "cat"
   ]
  },
  {
   "cell_type": "code",
   "execution_count": 20,
   "metadata": {},
   "outputs": [
    {
     "data": {
      "text/plain": [
       "['cap-diameter', 'stem-height', 'stem-width']"
      ]
     },
     "execution_count": 20,
     "metadata": {},
     "output_type": "execute_result"
    }
   ],
   "source": [
    "num=df.select_dtypes(exclude='object').columns.to_list()\n",
    "num.remove('id')\n",
    "num"
   ]
  },
  {
   "cell_type": "code",
   "execution_count": 21,
   "metadata": {},
   "outputs": [],
   "source": [
    "dataset = pd.read_csv('data/train.csv')\n",
    "preprocessor = Preprocessor(dataset)"
   ]
  },
  {
   "cell_type": "code",
   "execution_count": 22,
   "metadata": {},
   "outputs": [],
   "source": [
    "X, y = preprocessor.clean()"
   ]
  },
  {
   "cell_type": "code",
   "execution_count": 27,
   "metadata": {},
   "outputs": [
    {
     "name": "stdout",
     "output_type": "stream",
     "text": [
      "'cap-shape': ['f', 'x', 'p', 'b', 'o', 'c', 's', 'd', 'e', 'n', 'unknown', 'w', 'k', 'l', 't', 'g', 'z', 'a', 'r', 'u', 'y', 'i', 'm', 'h'],\n",
      "'cap-surface': ['s', 'h', 'y', 'l', 't', 'e', 'g', 'unknown', 'd', 'i', 'w', 'k', 'f', 'n', 'r', 'o', 'a', 'u', 'z', 'p', 'b', 'm', 'x', 'c'],\n",
      "'cap-color': ['u', 'o', 'b', 'g', 'w', 'n', 'e', 'y', 'r', 'p', 'k', 'l', 'i', 'h', 'd', 's', 'a', 'f', 'unknown', 'c', 'x', 'm', 'z', 't'],\n",
      "'does-bruise-or-bleed': ['f', 't', 'd', 'unknown', 'w', 'o', 'b', 'x', 'p', 'g', 'y', 'r', 'a', 'l', 'i', 'c', 'n', 'z', 's', 'k', 'h', 'e', 'u'],\n",
      "'gill-attachment': ['a', 'x', 's', 'd', 'e', 'unknown', 'f', 'p', 'l', 'm', 'b', 'n', 'g', 'i', 'u', 't', 'o', 'c', 'w', 'k', 'r', 'h', 'z', 'y'],\n",
      "'gill-spacing': ['c', 'unknown', 'd', 'f', 'x', 'b', 'a', 'k', 'e', 'y', 's', 'p', 't', 'i', 'w', 'h', 'l', 'r', 'n', 'g'],\n",
      "'gill-color': ['w', 'n', 'g', 'k', 'y', 'f', 'p', 'o', 'b', 'u', 'e', 'r', 'd', 't', 'unknown', 'z', 'h', 'x', 's', 'c', 'm', 'l', 'a', 'i'],\n",
      "'stem-root': ['unknown', 'b', 'c', 'r', 's', 'f', 'y', 'o', 'k', 'd', 'n', 'w', 'u', 'p', 'x', 'i', 'a', 't', 'm', 'l', 'h', 'g', 'e', 'z'],\n",
      "'stem-surface': ['unknown', 'y', 's', 't', 'g', 'h', 'k', 'i', 'f', 'l', 'd', 'x', 'w', 'a', 'o', 'c', 'n', 'm', 'e', 'p', 'z', 'b', 'r', 'u'],\n",
      "'stem-color': ['w', 'o', 'n', 'y', 'e', 'u', 'p', 'f', 'g', 'r', 'k', 'l', 'b', 'unknown', 't', 'z', 'a', 'h', 'd', 's', 'i', 'c', 'x', 'm'],\n",
      "'veil-type': ['unknown', 'u', 'd', 'a', 'h', 'g', 'c', 'e', 'y', 'i', 'f', 't', 'w', 'p', 'b', 's', 'k', 'r', 'l', 'n'],\n",
      "'veil-color': ['unknown', 'n', 'w', 'k', 'y', 'e', 'u', 'p', 'd', 'g', 'r', 'h', 's', 't', 'c', 'o', 'i', 'f', 'a', 'b', 'l', 'z'],\n",
      "'has-ring': ['f', 't', 'h', 'r', 'y', 'c', 'e', 'g', 'l', 's', 'unknown', 'p', 'x', 'k', 'z', 'd', 'o', 'n', 'm', 'i', 'w', 'a'],\n",
      "'ring-type': ['f', 'z', 'e', 'unknown', 'p', 'l', 'g', 'r', 'm', 'y', 'h', 'o', 't', 'a', 'd', 's', 'x', 'b', 'u', 'n', 'w', 'i', 'k', 'c'],\n",
      "'spore-print-color': ['unknown', 'k', 'w', 'p', 'n', 'r', 'u', 'g', 't', 'f', 'd', 'l', 'y', 'a', 's', 'e', 'o', 'c', 'b', 'h', 'x', 'i', 'm'],\n",
      "'habitat': ['d', 'l', 'g', 'h', 'p', 'm', 'u', 'w', 'y', 'unknown', 'n', 'a', 's', 'k', 'z', 'b', 't', 'c', 'e', 'r', 'f', 'o', 'x', 'i'],\n",
      "'season': ['a', 'w', 'u', 's'],\n"
     ]
    }
   ],
   "source": [
    "for col in X[cat].columns:\n",
    "    print(f\"'{col}': {X[col].unique().tolist()}\")"
   ]
  },
  {
   "cell_type": "code",
   "execution_count": 6,
   "metadata": {
    "scrolled": true
   },
   "outputs": [],
   "source": [
    "X_preprocess = preprocessor.preprocess_features(X)"
   ]
  },
  {
   "cell_type": "code",
   "execution_count": 18,
   "metadata": {
    "jupyter": {
     "source_hidden": true
    }
   },
   "outputs": [],
   "source": [
    "def label_encode(X):\n",
    "    encoder = LabelEncoder()\n",
    "    return X.apply(encoder.fit_transform)\n",
    "    \n",
    "num_pipeline=make_pipeline(\n",
    "    StandardScaler()\n",
    ")\n",
    "cat_pipeline=make_pipeline(\n",
    "    FunctionTransformer(func=label_encode, validate=False, feature_names_out='one-to-one'),\n",
    ")\n",
    "    \n",
    "preprocessing=ColumnTransformer([\n",
    "    (\"num\", num_pipeline, num),\n",
    "    (\"cat\", cat_pipeline, cat),\n",
    "   ])\n",
    "\n",
    "preprocessing_pipeline=make_pipeline(preprocessing)\n",
    "\n",
    "X_transformed=preprocessing_pipeline.fit_transform(X)\n",
    "feature_names=list(preprocessing_pipeline[0].get_feature_names_out())\n",
    "X=pd.DataFrame(data=X_transformed, columns=feature_names)"
   ]
  },
  {
   "cell_type": "code",
   "execution_count": 7,
   "metadata": {},
   "outputs": [],
   "source": [
    "X_train, X_test, y_train, y_test = preprocessor.split(X_preprocess, y, .2)"
   ]
  },
  {
   "cell_type": "code",
   "execution_count": 17,
   "metadata": {},
   "outputs": [],
   "source": [
    "class Preprocessor():\n",
    "\n",
    "    def __init__(self, dataset):\n",
    "        self.dataset=dataset\n",
    "        self.cat=self.dataset.select_dtypes(include='object').columns.to_list()\n",
    "        self.cat.remove('class')\n",
    "\n",
    "        self.num=self.dataset.select_dtypes(exclude='object').columns.to_list()\n",
    "        self.num.remove('id')\n",
    "\n",
    "    def clean(self):\n",
    "\n",
    "        self.dataset=(\n",
    "            self.dataset\n",
    "            .assign(**{\n",
    "                cat_col: lambda x, col=cat_col: np.where(\n",
    "                    ~x[col].isna() & x[col].str.match('^[a-zA-Z]$'),\n",
    "                    x[col],\n",
    "                    \"unknown\") for cat_col in self.cat})\n",
    "            .assign(**{\n",
    "                num_col: self.dataset[num_col].fillna(0)\n",
    "                for num_col in self.num})\n",
    "            .assign(**{'class': self.dataset['class'].map({'e': 0, 'p': 1})})\n",
    "           )\n",
    "\n",
    "        X, y=(self.dataset.drop(columns=['class', 'id']),\n",
    "              self.dataset['class'])\n",
    "\n",
    "        return X, y\n",
    "\n",
    "    def preprocess_features(self, X):\n",
    "        def label_encode(X):\n",
    "            encoder = LabelEncoder()\n",
    "            return X.apply(encoder.fit_transform)\n",
    "            \n",
    "        num_pipeline=make_pipeline(\n",
    "            StandardScaler()\n",
    "        )\n",
    "        cat_pipeline=make_pipeline(\n",
    "            FunctionTransformer(func=label_encode, validate=False, feature_names_out='one-to-one'),\n",
    "        )\n",
    "            \n",
    "        preprocessing=ColumnTransformer([\n",
    "            (\"num\", num_pipeline, self.num),\n",
    "            (\"cat\", cat_pipeline, self.cat),\n",
    "           ])\n",
    "\n",
    "        preprocessing_pipeline=make_pipeline(preprocessing)\n",
    "\n",
    "        X_transformed=preprocessing_pipeline.fit_transform(X)\n",
    "        feature_names=list(preprocessing_pipeline[0].get_feature_names_out())\n",
    "        X=pd.DataFrame(data=X_transformed, columns=feature_names)\n",
    "\n",
    "        return X\n",
    "    \n",
    "    def split(self, X, y, test_size):\n",
    "        \n",
    "        X_train, X_test, y_train, y_test = train_test_split(X, y,\n",
    "                                                            test_size=test_size,\n",
    "                                                            random_state=42,\n",
    "                                                            stratify=y)\n",
    "\n",
    "        return X_train, X_test, y_train, y_test"
   ]
  },
  {
   "cell_type": "markdown",
   "metadata": {},
   "source": [
    "# Train Model"
   ]
  },
  {
   "cell_type": "code",
   "execution_count": 8,
   "metadata": {},
   "outputs": [
    {
     "name": "stdout",
     "output_type": "stream",
     "text": [
      "^C\n"
     ]
    },
    {
     "name": "stderr",
     "output_type": "stream",
     "text": [
      "ERROR: Could not install packages due to an OSError: [WinError 5] Access is denied: 'C:\\\\Users\\\\rbbel\\\\.virtualenvs\\\\MLOps-6AcC-k4j\\\\Lib\\\\site-packages\\\\catboost\\\\_catboost.pyd'\n",
      "Check the permissions.\n",
      "\n"
     ]
    }
   ],
   "source": [
    "!pip install lightgbm -q\n"
   ]
  },
  {
   "cell_type": "code",
   "execution_count": 12,
   "metadata": {},
   "outputs": [
    {
     "name": "stdout",
     "output_type": "stream",
     "text": [
      "Collecting catboost\n",
      "  Using cached catboost-1.2.5-cp39-cp39-win_amd64.whl.metadata (1.2 kB)\n",
      "Requirement already satisfied: graphviz in c:\\users\\rbbel\\.virtualenvs\\mlops-6acc-k4j\\lib\\site-packages (from catboost) (0.20.3)\n",
      "Requirement already satisfied: matplotlib in c:\\users\\rbbel\\.virtualenvs\\mlops-6acc-k4j\\lib\\site-packages (from catboost) (3.9.2)\n",
      "Requirement already satisfied: numpy>=1.16.0 in c:\\users\\rbbel\\.virtualenvs\\mlops-6acc-k4j\\lib\\site-packages (from catboost) (1.26.4)\n",
      "Requirement already satisfied: pandas>=0.24 in c:\\users\\rbbel\\.virtualenvs\\mlops-6acc-k4j\\lib\\site-packages (from catboost) (2.2.2)\n",
      "Requirement already satisfied: scipy in c:\\users\\rbbel\\.virtualenvs\\mlops-6acc-k4j\\lib\\site-packages (from catboost) (1.13.1)\n",
      "Requirement already satisfied: plotly in c:\\users\\rbbel\\.virtualenvs\\mlops-6acc-k4j\\lib\\site-packages (from catboost) (5.23.0)\n",
      "Requirement already satisfied: six in c:\\users\\rbbel\\.virtualenvs\\mlops-6acc-k4j\\lib\\site-packages (from catboost) (1.16.0)\n",
      "Requirement already satisfied: python-dateutil>=2.8.2 in c:\\users\\rbbel\\.virtualenvs\\mlops-6acc-k4j\\lib\\site-packages (from pandas>=0.24->catboost) (2.9.0.post0)\n",
      "Requirement already satisfied: pytz>=2020.1 in c:\\users\\rbbel\\.virtualenvs\\mlops-6acc-k4j\\lib\\site-packages (from pandas>=0.24->catboost) (2024.1)\n",
      "Requirement already satisfied: tzdata>=2022.7 in c:\\users\\rbbel\\.virtualenvs\\mlops-6acc-k4j\\lib\\site-packages (from pandas>=0.24->catboost) (2024.1)\n",
      "Requirement already satisfied: contourpy>=1.0.1 in c:\\users\\rbbel\\.virtualenvs\\mlops-6acc-k4j\\lib\\site-packages (from matplotlib->catboost) (1.2.1)\n",
      "Requirement already satisfied: cycler>=0.10 in c:\\users\\rbbel\\.virtualenvs\\mlops-6acc-k4j\\lib\\site-packages (from matplotlib->catboost) (0.12.1)\n",
      "Requirement already satisfied: fonttools>=4.22.0 in c:\\users\\rbbel\\.virtualenvs\\mlops-6acc-k4j\\lib\\site-packages (from matplotlib->catboost) (4.53.1)\n",
      "Requirement already satisfied: kiwisolver>=1.3.1 in c:\\users\\rbbel\\.virtualenvs\\mlops-6acc-k4j\\lib\\site-packages (from matplotlib->catboost) (1.4.5)\n",
      "Requirement already satisfied: packaging>=20.0 in c:\\users\\rbbel\\.virtualenvs\\mlops-6acc-k4j\\lib\\site-packages (from matplotlib->catboost) (24.1)\n",
      "Requirement already satisfied: pillow>=8 in c:\\users\\rbbel\\.virtualenvs\\mlops-6acc-k4j\\lib\\site-packages (from matplotlib->catboost) (10.4.0)\n",
      "Requirement already satisfied: pyparsing>=2.3.1 in c:\\users\\rbbel\\.virtualenvs\\mlops-6acc-k4j\\lib\\site-packages (from matplotlib->catboost) (3.1.2)\n",
      "Requirement already satisfied: importlib-resources>=3.2.0 in c:\\users\\rbbel\\.virtualenvs\\mlops-6acc-k4j\\lib\\site-packages (from matplotlib->catboost) (6.4.2)\n",
      "Requirement already satisfied: tenacity>=6.2.0 in c:\\users\\rbbel\\.virtualenvs\\mlops-6acc-k4j\\lib\\site-packages (from plotly->catboost) (9.0.0)\n",
      "Requirement already satisfied: zipp>=3.1.0 in c:\\users\\rbbel\\.virtualenvs\\mlops-6acc-k4j\\lib\\site-packages (from importlib-resources>=3.2.0->matplotlib->catboost) (3.20.0)\n",
      "Using cached catboost-1.2.5-cp39-cp39-win_amd64.whl (101.2 MB)\n",
      "Installing collected packages: catboost\n",
      "Successfully installed catboost-1.2.5\n"
     ]
    }
   ],
   "source": [
    "!pip install catboost"
   ]
  },
  {
   "cell_type": "code",
   "execution_count": 11,
   "metadata": {},
   "outputs": [],
   "source": [
    "!pip install hyperopt -q"
   ]
  },
  {
   "cell_type": "code",
   "execution_count": 16,
   "metadata": {},
   "outputs": [],
   "source": [
    "# ensemble\n",
    "from xgboost import XGBClassifier\n",
    "from lightgbm import LGBMClassifier\n",
    "from catboost import CatBoostClassifier\n",
    "\n",
    "# hypertuning\n",
    "import mlflow\n",
    "from hyperopt import fmin, tpe, hp, STATUS_OK, Trials\n",
    "from hyperopt.pyll import scope\n",
    "\n",
    "# eval\n",
    "from sklearn.metrics import f1_score, log_loss, roc_auc_score, precision_score, recall_score, matthews_corrcoef"
   ]
  },
  {
   "cell_type": "code",
   "execution_count": 26,
   "metadata": {},
   "outputs": [],
   "source": [
    "class Modeller():\n",
    "    def __init__(self, X_train, y_train, X_test, y_test, experiment_name, mlflow_tracking_uri=\"http://localhost:5000\"):\n",
    "        self.X_train = X_train\n",
    "        self.y_train = y_train\n",
    "        self.X_test = X_test\n",
    "        self.y_test = y_test\n",
    "        self.mlflow_tracking_uri = mlflow_tracking_uri\n",
    "        self.experiment_name = experiment_name\n",
    "\n",
    "\n",
    "    def hypertune(self):\n",
    "        mlflow.set_tracking_uri(self.mlflow_tracking_uri)\n",
    "        mlflow.set_experiment(self.experiment_name)\n",
    "        all_scores={}\n",
    "\n",
    "        def search_fn(params):\n",
    "            with mlflow.start_run():\n",
    "                mlflow.set_tag('person','rchll') # Change name\n",
    "                mlflow.autolog()\n",
    "                \n",
    "                classifier_type = params[\"type\"]\n",
    "                mlflow.set_tag('model', classifier_type)\n",
    "                del params[\"type\"]\n",
    "                if classifier_type == \"xgb\":\n",
    "                    model = XGBClassifier(**params)\n",
    "                elif classifier_type == \"lgbm\":\n",
    "                    model = LGBMClassifier(**params)\n",
    "                elif classifier_type == \"catboost\":\n",
    "                    model = LGBMClassifier(**params)\n",
    "\n",
    "                model.fit(self.X_train, self.y_train)\n",
    "                y_pred=model.predict(self.X_test)\n",
    "                \n",
    "                accuracy=model.score(self.X_test,self.y_test)\n",
    "                precision=precision_score(self.y_test, y_pred)\n",
    "                recall=recall_score(self.y_test,y_pred)\n",
    "                f1=f1_score(self.y_test, y_pred)\n",
    "                roc=roc_auc_score(self.y_test, y_pred)\n",
    "                logloss=log_loss(self.y_test, y_pred)\n",
    "                mcc=matthews_corrcoef(self.y_test,y_pred)\n",
    "                \n",
    "                metrics={\n",
    "                    'accuracy':accuracy,\n",
    "                    'precision':precision,\n",
    "                    'recall':recall,\n",
    "                    'f1':f1,\n",
    "                    'roc_auc_score': roc,\n",
    "                    'log_loss': logloss,\n",
    "                    'mcc':mcc\n",
    "                }\n",
    "    \n",
    "                mlflow.log_metrics(metrics)\n",
    "    \n",
    "                return {\"loss\": -f1, \"status\": STATUS_OK}\n",
    "\n",
    "        search_space =  hp.choice(\n",
    "            \"classifier_type\",\n",
    "            [\n",
    "                {\n",
    "                    'type': 'xgb',\n",
    "                    'n_estimators': scope.int(hp.uniform('xgb.n_estimators', 100, 1000)),\n",
    "                    'max_depth': scope.int(hp.quniform('xgb.max_depth', 10, 100, 1)),\n",
    "                    'learning_rate': hp.loguniform('xgb.learning_rate', -7, -2),\n",
    "                    'min_child_weight': hp.loguniform('xgb.min_child_weight', -1, 5),\n",
    "                    'random_state': 42,\n",
    "                },\n",
    "                {\n",
    "                    \"type\": \"lgbm\",\n",
    "                    'n_estimators': scope.int(hp.uniform('lgbm.n_estimators', 100, 1000)),\n",
    "                    'learning_rate': hp.loguniform('lgbm.learning_rate', -7, -2),\n",
    "                    'num_leaves': hp.choice('lgbm.num_leaves', [31, 50, 70]),\n",
    "                    'max_depth': scope.int(hp.quniform('lgbm.max_depth', 10, 100, 1)),\n",
    "                    'min_child_samples': hp.choice('lgbm.min_child_samples', [20, 30, 40]),\n",
    "                    'subsample': hp.uniform('lgbm.subsample', 0.7, 1.0),\n",
    "                    'colsample_bytree': hp.uniform('lgbm.catboost.colsample_bytree', 0.7, 1.0)\n",
    "                },\n",
    "                {\n",
    "                    \"type\": \"catboost\",\n",
    "                    'iterations': hp.choice('catboost.iterations', [100, 200]),\n",
    "                    'learning_rate': hp.loguniform('catboost.learning_rate', -7, -2),\n",
    "                    'depth': hp.choice('catboost.depth', [6, 8, 10]),\n",
    "                    'l2_leaf_reg': hp.choice('catboost.l2_leaf_reg', [1, 3, 5]),\n",
    "                    'subsample': hp.uniform('catboost.subsample', 0.7, 1.0),\n",
    "                    'colsample_bylevel': hp.uniform('catboost.colsample_bylevel', 0.7, 1.0)\n",
    "                },\n",
    "            ],\n",
    "        )\n",
    "        trials=Trials()\n",
    "        best_result = fmin(\n",
    "            fn=search_fn,\n",
    "            space=search_space,\n",
    "            algo=tpe.suggest,\n",
    "            max_evals=10,\n",
    "            trials=trials\n",
    "        )\n",
    "\n",
    "    def register_best_model(self):\n",
    "        client = MlflowClient(tracking_uri=self.mlflow_tracking_uri)\n",
    "        experiment = client.get_experiment_by_name(self.experiment_name)\n",
    "        best_run = client.search_runs(\n",
    "            experiment_ids=experiment.experiment_id,\n",
    "            run_view_type=ViewType.ACTIVE_ONLY,\n",
    "            max_results=1,\n",
    "            order_by=[\"metrics.f1 DESC\"],\n",
    "        )[0]\n",
    "        # register the best model\n",
    "        run_id = best_run.info.run_id\n",
    "        model_uri = f\"runs:/{run_id}/model\"\n",
    "        model_details = mlflow.register_model(model_uri=model_uri, name=self.experiment_name)"
   ]
  },
  {
   "cell_type": "code",
   "execution_count": null,
   "metadata": {},
   "outputs": [],
   "source": [
    "mlflow.lo"
   ]
  },
  {
   "cell_type": "code",
   "execution_count": 27,
   "metadata": {},
   "outputs": [],
   "source": [
    "experiment_name = \"trial\"\n",
    "mlflow_tracking_uri = \"http://localhost:5000\"\n",
    "model = Modeller(X_train, y_train, X_test, y_test, experiment_name, mlflow_tracking_uri)"
   ]
  },
  {
   "cell_type": "code",
   "execution_count": 29,
   "metadata": {},
   "outputs": [
    {
     "name": "stdout",
     "output_type": "stream",
     "text": [
      "[LightGBM] [Info] Number of positive: 1364317, number of negative: 1129239                                                                                                   \n",
      "[LightGBM] [Info] Auto-choosing row-wise multi-threading, the overhead of testing was 0.112591 seconds.                                                                      \n",
      "You can set `force_row_wise=true` to remove the overhead.\n",
      "And if memory is not enough, you can set `force_col_wise=true`.\n",
      "[LightGBM] [Info] Total Bins 968                                                                                                                                             \n",
      "[LightGBM] [Info] Number of data points in the train set: 2493556, number of used features: 20                                                                               \n",
      "[LightGBM] [Info] [binary:BoostFromScore]: pavg=0.547137 -> initscore=0.189110                                                                                               \n",
      "[LightGBM] [Info] Start training from score 0.189110                                                                                                                         \n",
      "  0%|                                                                                                                                 | 0/10 [00:02<?, ?trial/s, best loss=?]"
     ]
    },
    {
     "name": "stderr",
     "output_type": "stream",
     "text": [
      "2024/08/17 17:27:18 INFO mlflow.tracking._tracking_service.client: 🏃 View run gifted-hen-285 at: http://localhost:5000/#/experiments/2/runs/0c4065b30cdc484b80abd81e7a24bdaf.\n",
      "\n",
      "2024/08/17 17:27:18 INFO mlflow.tracking._tracking_service.client: 🧪 View experiment at: http://localhost:5000/#/experiments/2.\n",
      "\n"
     ]
    },
    {
     "name": "stdout",
     "output_type": "stream",
     "text": [
      "[LightGBM] [Warning] Unknown parameter: colsample_bylevel                                                                                                                    \n",
      "[LightGBM] [Warning] Unknown parameter: depth                                                                                                                                \n",
      "[LightGBM] [Warning] Unknown parameter: iterations                                                                                                                           \n",
      "[LightGBM] [Warning] Unknown parameter: l2_leaf_reg                                                                                                                          \n",
      "[LightGBM] [Warning] Unknown parameter: colsample_bylevel                                                                                                                    \n",
      "[LightGBM] [Warning] Unknown parameter: depth                                                                                                                                \n",
      "[LightGBM] [Warning] Unknown parameter: iterations                                                                                                                           \n",
      "[LightGBM] [Warning] Unknown parameter: l2_leaf_reg                                                                                                                          \n",
      "[LightGBM] [Info] Number of positive: 1364317, number of negative: 1129239                                                                                                   \n",
      "[LightGBM] [Info] Auto-choosing col-wise multi-threading, the overhead of testing was 0.326370 seconds.                                                                      \n",
      "You can set `force_col_wise=true` to remove the overhead.\n",
      "[LightGBM] [Info] Total Bins 968                                                                                                                                             \n",
      "[LightGBM] [Info] Number of data points in the train set: 2493556, number of used features: 20                                                                               \n",
      "[LightGBM] [Info] [binary:BoostFromScore]: pavg=0.547137 -> initscore=0.189110                                                                                               \n",
      "[LightGBM] [Info] Start training from score 0.189110                                                                                                                         \n",
      "[LightGBM] [Warning] Unknown parameter: colsample_bylevel                                                                                                                    \n",
      "[LightGBM] [Warning] Unknown parameter: depth                                                                                                                                \n",
      "[LightGBM] [Warning] Unknown parameter: iterations                                                                                                                           \n",
      "[LightGBM] [Warning] Unknown parameter: l2_leaf_reg                                                                                                                          \n",
      "[LightGBM] [Warning] Unknown parameter: colsample_bylevel                                                                                                                    \n",
      "[LightGBM] [Warning] Unknown parameter: depth                                                                                                                                \n",
      "[LightGBM] [Warning] Unknown parameter: iterations                                                                                                                           \n",
      "[LightGBM] [Warning] Unknown parameter: l2_leaf_reg                                                                                                                          \n",
      " 10%|██████████▎                                                                                            | 1/10 [01:43<12:19, 82.11s/trial, best loss: -0.992507972661805]"
     ]
    },
    {
     "name": "stderr",
     "output_type": "stream",
     "text": [
      "2024/08/17 17:27:41 INFO mlflow.tracking._tracking_service.client: 🏃 View run aged-fowl-910 at: http://localhost:5000/#/experiments/2/runs/76f2ba676b71431e8e63bf8b58f4e50e.\n",
      "\n",
      "2024/08/17 17:27:41 INFO mlflow.tracking._tracking_service.client: 🧪 View experiment at: http://localhost:5000/#/experiments/2.\n",
      "\n"
     ]
    },
    {
     "name": "stdout",
     "output_type": "stream",
     "text": [
      "[LightGBM] [Info] Number of positive: 1364317, number of negative: 1129239                                                                                                   \n",
      "[LightGBM] [Info] Auto-choosing row-wise multi-threading, the overhead of testing was 0.080445 seconds.                                                                      \n",
      "You can set `force_row_wise=true` to remove the overhead.\n",
      "And if memory is not enough, you can set `force_col_wise=true`.\n",
      "[LightGBM] [Info] Total Bins 968                                                                                                                                             \n",
      "[LightGBM] [Info] Number of data points in the train set: 2493556, number of used features: 20                                                                               \n",
      "[LightGBM] [Info] [binary:BoostFromScore]: pavg=0.547137 -> initscore=0.189110                                                                                               \n",
      "[LightGBM] [Info] Start training from score 0.189110                                                                                                                         \n",
      " 20%|████████████████████▌                                                                                  | 2/10 [01:47<06:18, 47.34s/trial, best loss: -0.992507972661805]"
     ]
    },
    {
     "name": "stderr",
     "output_type": "stream",
     "text": [
      "2024/08/17 17:28:04 INFO mlflow.tracking._tracking_service.client: 🏃 View run clumsy-colt-628 at: http://localhost:5000/#/experiments/2/runs/dac4817425034504817d94a9272f9fa7.\n",
      "\n",
      "2024/08/17 17:28:04 INFO mlflow.tracking._tracking_service.client: 🧪 View experiment at: http://localhost:5000/#/experiments/2.\n",
      "\n"
     ]
    },
    {
     "name": "stdout",
     "output_type": "stream",
     "text": [
      "[LightGBM] [Info] Number of positive: 1364317, number of negative: 1129239                                                                                                   \n",
      "[LightGBM] [Info] Auto-choosing row-wise multi-threading, the overhead of testing was 0.102018 seconds.                                                                      \n",
      "You can set `force_row_wise=true` to remove the overhead.\n",
      "And if memory is not enough, you can set `force_col_wise=true`.\n",
      "[LightGBM] [Info] Total Bins 968                                                                                                                                             \n",
      "[LightGBM] [Info] Number of data points in the train set: 2493556, number of used features: 20                                                                               \n",
      "[LightGBM] [Info] [binary:BoostFromScore]: pavg=0.547137 -> initscore=0.189110                                                                                               \n",
      "[LightGBM] [Info] Start training from score 0.189110                                                                                                                         \n",
      " 30%|██████████████████████████████▉                                                                        | 3/10 [02:09<04:12, 36.12s/trial, best loss: -0.992507972661805]"
     ]
    },
    {
     "name": "stderr",
     "output_type": "stream",
     "text": [
      "2024/08/17 17:28:47 INFO mlflow.tracking._tracking_service.client: 🏃 View run receptive-jay-986 at: http://localhost:5000/#/experiments/2/runs/700703f4434a4731998a8bb8c9be43b2.\n",
      "\n",
      "2024/08/17 17:28:47 INFO mlflow.tracking._tracking_service.client: 🧪 View experiment at: http://localhost:5000/#/experiments/2.\n",
      "\n"
     ]
    },
    {
     "name": "stdout",
     "output_type": "stream",
     "text": [
      " 40%|█████████████████████████████████████████▏                                                             | 4/10 [02:51<03:53, 38.99s/trial, best loss: -0.992667713577058]"
     ]
    },
    {
     "name": "stderr",
     "output_type": "stream",
     "text": [
      "2024/08/17 17:34:59 INFO mlflow.tracking._tracking_service.client: 🏃 View run spiffy-midge-669 at: http://localhost:5000/#/experiments/2/runs/c719a0d39e5e4bba92acdad1a82af960.\n",
      "\n",
      "2024/08/17 17:34:59 INFO mlflow.tracking._tracking_service.client: 🧪 View experiment at: http://localhost:5000/#/experiments/2.\n",
      "\n"
     ]
    },
    {
     "name": "stdout",
     "output_type": "stream",
     "text": [
      "[LightGBM] [Info] Number of positive: 1364317, number of negative: 1129239                                                                                                   \n",
      "[LightGBM] [Info] Auto-choosing row-wise multi-threading, the overhead of testing was 0.094954 seconds.                                                                      \n",
      "You can set `force_row_wise=true` to remove the overhead.\n",
      "And if memory is not enough, you can set `force_col_wise=true`.\n",
      "[LightGBM] [Info] Total Bins 968                                                                                                                                             \n",
      "[LightGBM] [Info] Number of data points in the train set: 2493556, number of used features: 20                                                                               \n",
      "[LightGBM] [Info] [binary:BoostFromScore]: pavg=0.547137 -> initscore=0.189110                                                                                               \n",
      "[LightGBM] [Info] Start training from score 0.189110                                                                                                                         \n",
      " 50%|███████████████████████████████████████████████████                                                   | 5/10 [09:06<13:15, 159.13s/trial, best loss: -0.992667713577058]"
     ]
    },
    {
     "name": "stderr",
     "output_type": "stream",
     "text": [
      "2024/08/17 17:38:06 INFO mlflow.tracking._tracking_service.client: 🏃 View run mercurial-moose-620 at: http://localhost:5000/#/experiments/2/runs/db41c8e8d72341f5a8e990af527ca1a0.\n",
      "\n",
      "2024/08/17 17:38:06 INFO mlflow.tracking._tracking_service.client: 🧪 View experiment at: http://localhost:5000/#/experiments/2.\n",
      "\n"
     ]
    },
    {
     "name": "stdout",
     "output_type": "stream",
     "text": [
      "[LightGBM] [Warning] Unknown parameter: colsample_bylevel                                                                                                                    \n",
      "[LightGBM] [Warning] Unknown parameter: depth                                                                                                                                \n",
      "[LightGBM] [Warning] Unknown parameter: iterations                                                                                                                           \n",
      "[LightGBM] [Warning] Unknown parameter: l2_leaf_reg                                                                                                                          \n",
      "[LightGBM] [Warning] Unknown parameter: colsample_bylevel                                                                                                                    \n",
      "[LightGBM] [Warning] Unknown parameter: depth                                                                                                                                \n",
      "[LightGBM] [Warning] Unknown parameter: iterations                                                                                                                           \n",
      "[LightGBM] [Warning] Unknown parameter: l2_leaf_reg                                                                                                                          \n",
      "[LightGBM] [Info] Number of positive: 1364317, number of negative: 1129239                                                                                                   \n",
      "[LightGBM] [Info] Auto-choosing row-wise multi-threading, the overhead of testing was 0.091416 seconds.                                                                      \n",
      "You can set `force_row_wise=true` to remove the overhead.\n",
      "And if memory is not enough, you can set `force_col_wise=true`.\n",
      "[LightGBM] [Info] Total Bins 968                                                                                                                                             \n",
      "[LightGBM] [Info] Number of data points in the train set: 2493556, number of used features: 20                                                                               \n",
      "[LightGBM] [Info] [binary:BoostFromScore]: pavg=0.547137 -> initscore=0.189110                                                                                               \n",
      "[LightGBM] [Info] Start training from score 0.189110                                                                                                                         \n",
      "[LightGBM] [Warning] Unknown parameter: colsample_bylevel                                                                                                                    \n",
      "[LightGBM] [Warning] Unknown parameter: depth                                                                                                                                \n",
      "[LightGBM] [Warning] Unknown parameter: iterations                                                                                                                           \n",
      "[LightGBM] [Warning] Unknown parameter: l2_leaf_reg                                                                                                                          \n",
      "[LightGBM] [Warning] Unknown parameter: colsample_bylevel                                                                                                                    \n",
      "[LightGBM] [Warning] Unknown parameter: depth                                                                                                                                \n",
      "[LightGBM] [Warning] Unknown parameter: iterations                                                                                                                           \n",
      "[LightGBM] [Warning] Unknown parameter: l2_leaf_reg                                                                                                                          \n",
      " 60%|█████████████████████████████████████████████████████████████▏                                        | 6/10 [12:23<11:13, 168.38s/trial, best loss: -0.992667713577058]"
     ]
    },
    {
     "name": "stderr",
     "output_type": "stream",
     "text": [
      "2024/08/17 17:38:21 INFO mlflow.tracking._tracking_service.client: 🏃 View run fearless-lamb-449 at: http://localhost:5000/#/experiments/2/runs/ed7597278af34f679c6e6a954e87bf1d.\n",
      "\n",
      "2024/08/17 17:38:21 INFO mlflow.tracking._tracking_service.client: 🧪 View experiment at: http://localhost:5000/#/experiments/2.\n",
      "\n"
     ]
    },
    {
     "name": "stdout",
     "output_type": "stream",
     "text": [
      " 70%|███████████████████████████████████████████████████████████████████████▍                              | 7/10 [12:25<05:55, 118.53s/trial, best loss: -0.992667713577058]"
     ]
    },
    {
     "name": "stderr",
     "output_type": "stream",
     "text": [
      "2024/08/17 17:39:08 INFO mlflow.tracking._tracking_service.client: 🏃 View run valuable-shrimp-825 at: http://localhost:5000/#/experiments/2/runs/2f80623a25cf459baf6139c5f2c3889f.\n",
      "\n",
      "2024/08/17 17:39:08 INFO mlflow.tracking._tracking_service.client: 🧪 View experiment at: http://localhost:5000/#/experiments/2.\n",
      "\n"
     ]
    },
    {
     "name": "stdout",
     "output_type": "stream",
     "text": [
      " 80%|██████████████████████████████████████████████████████████████████████████████████▍                    | 8/10 [13:12<03:11, 95.73s/trial, best loss: -0.992667713577058]"
     ]
    },
    {
     "name": "stderr",
     "output_type": "stream",
     "text": [
      "2024/08/17 17:42:45 INFO mlflow.tracking._tracking_service.client: 🏃 View run adaptable-crab-342 at: http://localhost:5000/#/experiments/2/runs/4631fa1fafe3410889f649328857d35b.\n",
      "\n",
      "2024/08/17 17:42:45 INFO mlflow.tracking._tracking_service.client: 🧪 View experiment at: http://localhost:5000/#/experiments/2.\n",
      "\n"
     ]
    },
    {
     "name": "stdout",
     "output_type": "stream",
     "text": [
      " 90%|███████████████████████████████████████████████████████████████████████████████████████████▊          | 9/10 [16:49<02:13, 133.64s/trial, best loss: -0.992667713577058]"
     ]
    },
    {
     "name": "stderr",
     "output_type": "stream",
     "text": [
      "2024/08/17 17:46:13 INFO mlflow.tracking._tracking_service.client: 🏃 View run charming-midge-723 at: http://localhost:5000/#/experiments/2/runs/bd6b0cc199704ab89d439152978fe3fd.\n",
      "\n",
      "2024/08/17 17:46:13 INFO mlflow.tracking._tracking_service.client: 🧪 View experiment at: http://localhost:5000/#/experiments/2.\n",
      "\n"
     ]
    },
    {
     "name": "stdout",
     "output_type": "stream",
     "text": [
      "100%|█████████████████████████████████████████████████████████████████████████████████████████████████████| 10/10 [20:17<00:00, 121.74s/trial, best loss: -0.992667713577058]\n"
     ]
    }
   ],
   "source": [
    "model.hypertune()"
   ]
  },
  {
   "cell_type": "code",
   "execution_count": 21,
   "metadata": {},
   "outputs": [
    {
     "name": "stderr",
     "output_type": "stream",
     "text": [
      "2024/08/17 17:24:10 INFO mlflow.tracking._tracking_service.client: 🏃 View run zealous-bird-419 at: http://localhost:5000/#/experiments/2/runs/8a5fa9fd8b4a4fca875b337414d54561.\n",
      "2024/08/17 17:24:10 INFO mlflow.tracking._tracking_service.client: 🧪 View experiment at: http://localhost:5000/#/experiments/2.\n"
     ]
    }
   ],
   "source": [
    "mlflow.end_run()"
   ]
  },
  {
   "cell_type": "code",
   "execution_count": 33,
   "metadata": {},
   "outputs": [
    {
     "name": "stderr",
     "output_type": "stream",
     "text": [
      "Successfully registered model 'trial'.\n",
      "2024/08/17 17:59:03 INFO mlflow.store.model_registry.abstract_store: Waiting up to 300 seconds for model version to finish creation. Model name: trial, version 1\n",
      "Created version '1' of model 'trial'.\n"
     ]
    }
   ],
   "source": [
    "from mlflow import MlflowClient\n",
    "from mlflow.entities import ViewType\n",
    "model.register_best_model()"
   ]
  },
  {
   "cell_type": "markdown",
   "metadata": {},
   "source": [
    "# Model Registry"
   ]
  },
  {
   "cell_type": "code",
   "execution_count": null,
   "metadata": {},
   "outputs": [],
   "source": []
  },
  {
   "cell_type": "code",
   "execution_count": 35,
   "metadata": {},
   "outputs": [],
   "source": [
    "import os\n",
    "import mlflow"
   ]
  },
  {
   "cell_type": "code",
   "execution_count": 37,
   "metadata": {},
   "outputs": [
    {
     "name": "stderr",
     "output_type": "stream",
     "text": [
      "C:\\Users\\rbbel\\.virtualenvs\\MLOps-6AcC-k4j\\lib\\site-packages\\mlflow\\store\\artifact\\utils\\models.py:32: FutureWarning: ``mlflow.tracking.client.MlflowClient.get_latest_versions`` is deprecated since 2.9.0. Model registry stages will be removed in a future major release. To learn more about the deprecation of model registry stages, see our migration guide here: https://mlflow.org/docs/latest/model-registry.html#migrating-from-stages\n",
      "  latest = client.get_latest_versions(name, None if stage is None else [stage])\n"
     ]
    },
    {
     "data": {
      "application/vnd.jupyter.widget-view+json": {
       "model_id": "fc7b61bc582645c5927c857149106410",
       "version_major": 2,
       "version_minor": 0
      },
      "text/plain": [
       "Downloading artifacts:   0%|          | 0/6 [00:00<?, ?it/s]"
      ]
     },
     "metadata": {},
     "output_type": "display_data"
    }
   ],
   "source": [
    "MLFLOW_TRACKING_URI = 'http://localhost:5000'\n",
    "EXPERIMENT_NAME = 'mushroom-exp'\n",
    "mlflow.set_tracking_uri(MLFLOW_TRACKING_URI)\n",
    "model_name = EXPERIMENT_NAME\n",
    "model_version = 'latest'\n",
    "os.makedirs('app/model', exist_ok=True)\n",
    "model = mlflow.pyfunc.load_model(model_uri=f\"models:/{model_name}/{model_version}\", dst_path = \"app/model\")"
   ]
  },
  {
   "cell_type": "code",
   "execution_count": 39,
   "metadata": {},
   "outputs": [
    {
     "ename": "TypeError",
     "evalue": "predict() missing 1 required positional argument: 'data'",
     "output_type": "error",
     "traceback": [
      "\u001b[1;31m---------------------------------------------------------------------------\u001b[0m",
      "\u001b[1;31mTypeError\u001b[0m                                 Traceback (most recent call last)",
      "Cell \u001b[1;32mIn[39], line 1\u001b[0m\n\u001b[1;32m----> 1\u001b[0m \u001b[43mmodel\u001b[49m\u001b[38;5;241;43m.\u001b[39;49m\u001b[43mpredict\u001b[49m\u001b[43m(\u001b[49m\u001b[43m)\u001b[49m\n",
      "\u001b[1;31mTypeError\u001b[0m: predict() missing 1 required positional argument: 'data'"
     ]
    }
   ],
   "source": [
    "model.predict()"
   ]
  },
  {
   "cell_type": "code",
   "execution_count": 3,
   "metadata": {},
   "outputs": [
    {
     "ename": "NameError",
     "evalue": "name 'b2' is not defined",
     "output_type": "error",
     "traceback": [
      "\u001b[1;31m---------------------------------------------------------------------------\u001b[0m",
      "\u001b[1;31mNameError\u001b[0m                                 Traceback (most recent call last)",
      "Cell \u001b[1;32mIn[3], line 1\u001b[0m\n\u001b[1;32m----> 1\u001b[0m os\u001b[38;5;241m.\u001b[39mmakedirs(\u001b[43mb2\u001b[49m, exist_ok\u001b[38;5;241m=\u001b[39m\u001b[38;5;28;01mTrue\u001b[39;00m)\n",
      "\u001b[1;31mNameError\u001b[0m: name 'b2' is not defined"
     ]
    }
   ],
   "source": [
    "os.makedirs(b2, exist_ok=True)"
   ]
  },
  {
   "cell_type": "code",
   "execution_count": null,
   "metadata": {},
   "outputs": [],
   "source": []
  },
  {
   "cell_type": "code",
   "execution_count": 9,
   "metadata": {},
   "outputs": [],
   "source": [
    "MLFLOW_TRACKING_URI = 'http://localhost:5000'\n",
    "EXPERIMENT_NAME = 'mushroom-exp'\n",
    "def load_model_artifacts_from_mlflow(MLFLOW_TRACKING_URI, EXPERIMENT_NAME):\n",
    "    mlflow.set_tracking_uri(MLFLOW_TRACKING_URI)    \n",
    "    model_name = EXPERIMENT_NAME\n",
    "    model_version = 'latest'\n",
    "    os.makedirs('app/model', exist_ok=True)\n",
    "    model = mlflow.pyfunc.load_model(model_uri=f\"models:/{model_name}/{model_version}\", dst_path = \"./app/model\")\n",
    "    with open('app/model/preprocessing_pipeline/preprocessing_pipeline.pkl', 'rb') as f:\n",
    "        preprocessing_pipeline=pickle.load(f)\n",
    "    return model, preprocessing_pipeline"
   ]
  },
  {
   "cell_type": "code",
   "execution_count": 10,
   "metadata": {},
   "outputs": [
    {
     "name": "stderr",
     "output_type": "stream",
     "text": [
      "C:\\Users\\rbbel\\.virtualenvs\\MLOps-6AcC-k4j\\lib\\site-packages\\mlflow\\store\\artifact\\utils\\models.py:32: FutureWarning: ``mlflow.tracking.client.MlflowClient.get_latest_versions`` is deprecated since 2.9.0. Model registry stages will be removed in a future major release. To learn more about the deprecation of model registry stages, see our migration guide here: https://mlflow.org/docs/latest/model-registry.html#migrating-from-stages\n",
      "  latest = client.get_latest_versions(name, None if stage is None else [stage])\n"
     ]
    },
    {
     "data": {
      "application/vnd.jupyter.widget-view+json": {
       "model_id": "d8ead65ab40743ba94126a07a683ba99",
       "version_major": 2,
       "version_minor": 0
      },
      "text/plain": [
       "Downloading artifacts:   0%|          | 0/6 [00:00<?, ?it/s]"
      ]
     },
     "metadata": {},
     "output_type": "display_data"
    },
    {
     "data": {
      "text/plain": [
       "mlflow.pyfunc.loaded_model:\n",
       "  artifact_path: model\n",
       "  flavor: mlflow.xgboost\n",
       "  run_id: 8a4d71125c52422590f3e6a6601d218c"
      ]
     },
     "execution_count": 10,
     "metadata": {},
     "output_type": "execute_result"
    }
   ],
   "source": [
    "load_model_artifacts_from_mlflow(MLFLOW_TRACKING_URI, EXPERIMENT_NAME)"
   ]
  },
  {
   "cell_type": "code",
   "execution_count": 49,
   "metadata": {},
   "outputs": [
    {
     "data": {
      "text/plain": [
       "'s3://mlflow-bucket-54/mlflow/0/4b12dc07279d4127af1dc5e8f31b20fc/artifacts/models:/mushroom-exp/latest'"
      ]
     },
     "execution_count": 49,
     "metadata": {},
     "output_type": "execute_result"
    }
   ],
   "source": [
    "mlflow.get_artifact_uri(artifact_path=f\"models:/{EXPERIMENT_NAME}/latest\", )"
   ]
  },
  {
   "cell_type": "code",
   "execution_count": 41,
   "metadata": {},
   "outputs": [
    {
     "data": {
      "text/plain": [
       "'s3://mlflow-bucket-54/mlflow/0/4b12dc07279d4127af1dc5e8f31b20fc/artifacts/preprocessing_pipeline/preprocessing_pipeline.pkl'"
      ]
     },
     "execution_count": 41,
     "metadata": {},
     "output_type": "execute_result"
    }
   ],
   "source": [
    "mlflow.get_artifact_uri(artifact_path=\"preprocessing_pipeline/preprocessing_pipeline.pkl\")"
   ]
  },
  {
   "cell_type": "code",
   "execution_count": 39,
   "metadata": {},
   "outputs": [
    {
     "name": "stderr",
     "output_type": "stream",
     "text": [
      "C:\\Users\\rbbel\\.virtualenvs\\MLOps-6AcC-k4j\\lib\\site-packages\\mlflow\\store\\artifact\\utils\\models.py:32: FutureWarning: ``mlflow.tracking.client.MlflowClient.get_latest_versions`` is deprecated since 2.9.0. Model registry stages will be removed in a future major release. To learn more about the deprecation of model registry stages, see our migration guide here: https://mlflow.org/docs/latest/model-registry.html#migrating-from-stages\n",
      "  latest = client.get_latest_versions(name, None if stage is None else [stage])\n"
     ]
    },
    {
     "data": {
      "text/plain": [
       "<method-wrapper '__str__' of method object at 0x00000225DE19E440>"
      ]
     },
     "execution_count": 39,
     "metadata": {},
     "output_type": "execute_result"
    }
   ],
   "source": [
    "mlflow.artifacts.get_artifact_repository(artifact_uri=f\"models:/{EXPERIMENT_NAME}/latest\")."
   ]
  },
  {
   "cell_type": "code",
   "execution_count": 23,
   "metadata": {
    "scrolled": true
   },
   "outputs": [
    {
     "data": {
      "application/vnd.jupyter.widget-view+json": {
       "model_id": "759b7ae23490451294495f82702234d2",
       "version_major": 2,
       "version_minor": 0
      },
      "text/plain": [
       "Downloading artifacts:   0%|          | 0/5 [00:00<?, ?it/s]"
      ]
     },
     "metadata": {},
     "output_type": "display_data"
    },
    {
     "data": {
      "text/plain": [
       "'C:\\\\Users\\\\rbbel\\\\AppData\\\\Local\\\\Temp\\\\tmpf4ik4sk_\\\\'"
      ]
     },
     "execution_count": 23,
     "metadata": {},
     "output_type": "execute_result"
    }
   ],
   "source": [
    "mlflow.artifacts.download_artifacts(artifact_uri=\"s3://mlflow-bucket-54/mlflow/1/8a4d71125c52422590f3e6a6601d218c/artifacts/model/\")"
   ]
  },
  {
   "cell_type": "code",
   "execution_count": 47,
   "metadata": {},
   "outputs": [
    {
     "data": {
      "text/plain": [
       "[<FileInfo: file_size=2017, is_dir=False, path='MLmodel'>,\n",
       " <FileInfo: file_size=224, is_dir=False, path='conda.yaml'>,\n",
       " <FileInfo: file_size=20527757, is_dir=False, path='model.xgb'>,\n",
       " <FileInfo: file_size=None, is_dir=True, path='preprocessing_pipeline'>,\n",
       " <FileInfo: file_size=120, is_dir=False, path='python_env.yaml'>,\n",
       " <FileInfo: file_size=105, is_dir=False, path='requirements.txt'>]"
      ]
     },
     "execution_count": 47,
     "metadata": {},
     "output_type": "execute_result"
    }
   ],
   "source": [
    "mlflow.artifacts.list_artifacts(artifact_uri=\"s3://mlflow-bucket-54/mlflow/1/8a4d71125c52422590f3e6a6601d218c/artifacts/model/\")"
   ]
  },
  {
   "cell_type": "markdown",
   "metadata": {},
   "source": [
    "# Dummy data"
   ]
  },
  {
   "cell_type": "code",
   "execution_count": 2,
   "metadata": {},
   "outputs": [],
   "source": [
    "import pandas as pd\n",
    "import random"
   ]
  },
  {
   "cell_type": "code",
   "execution_count": 3,
   "metadata": {},
   "outputs": [],
   "source": [
    "data = {\n",
    "    'cap-shape': random.choice([\n",
    "        'f', 'x', 'p', 'b', 'o', 'c', 's', 'd', 'e', 'n', 'unknown', \n",
    "        'w', 'k', 'l', 't', 'g', 'z', 'a', 'r', 'u', 'y', 'i', 'm', 'h'\n",
    "        ]),\n",
    "    'cap-surface': random.choice([\n",
    "        's', 'h', 'y', 'l', 't', 'e', 'g', 'unknown', 'd', 'i', 'w', \n",
    "        'k', 'f', 'n', 'r', 'o', 'a', 'u', 'z', 'p', 'b', 'm', 'x', 'c'\n",
    "        ]),\n",
    "    'cap-color': random.choice([\n",
    "        'u', 'o', 'b', 'g', 'w', 'n', 'e', 'y', 'r', 'p', 'k', 'l', \n",
    "        'i', 'h', 'd', 's', 'a', 'f', 'unknown', 'c', 'x', 'm', 'z', 't'\n",
    "        ]),\n",
    "    'does-bruise-or-bleed': random.choice([\n",
    "        'f', 't', 'd', 'unknown', 'w', 'o', 'b', 'x', 'p', 'g', 'y', \n",
    "        'r', 'a', 'l', 'i', 'c', 'n', 'z', 's', 'k', 'h', 'e', 'u'\n",
    "        ]),\n",
    "    'gill-attachment': random.choice([\n",
    "        'a', 'x', 's', 'd', 'e', 'unknown', 'f', 'p', 'l', 'm', 'b', \n",
    "        'n', 'g', 'i', 'u', 't', 'o', 'c', 'w', 'k', 'r', 'h', 'z', 'y'\n",
    "        ]),\n",
    "    'gill-spacing': random.choice([\n",
    "        'c', 'unknown', 'd', 'f', 'x', 'b', 'a', 'k', 'e', 'y', 's', \n",
    "        'p', 't', 'i', 'w', 'h', 'l', 'r', 'n', 'g'\n",
    "        ]),\n",
    "    'gill-color': random.choice([\n",
    "        'w', 'n', 'g', 'k', 'y', 'f', 'p', 'o', 'b', 'u', 'e', 'r', \n",
    "        'd', 't', 'unknown', 'z', 'h', 'x', 's', 'c', 'm', 'l', 'a', 'i'\n",
    "        ]),\n",
    "    'stem-root': random.choice([\n",
    "        'unknown', 'b', 'c', 'r', 's', 'f', 'y', 'o', 'k', 'd', 'n', \n",
    "        'w', 'u', 'p', 'x', 'i', 'a', 't', 'm', 'l', 'h', 'g', 'e', 'z'\n",
    "        ]),\n",
    "    'stem-surface': random.choice([\n",
    "        'unknown', 'y', 's', 't', 'g', 'h', 'k', 'i', 'f', 'l', 'd', \n",
    "        'x', 'w', 'a', 'o', 'c', 'n', 'm', 'e', 'p', 'z', 'b', 'r', 'u'\n",
    "        ]),\n",
    "    'stem-color': random.choice([\n",
    "        'w', 'o', 'n', 'y', 'e', 'u', 'p', 'f', 'g', 'r', 'k', 'l', \n",
    "        'b', 'unknown', 't', 'z', 'a', 'h', 'd', 's', 'i', 'c', 'x', 'm'\n",
    "        ]),\n",
    "    'veil-type': random.choice([\n",
    "        'unknown', 'u', 'd', 'a', 'h', 'g', 'c', 'e', 'y', 'i', 'f', \n",
    "        't', 'w', 'p', 'b', 's', 'k', 'r', 'l', 'n'\n",
    "        ]),\n",
    "    'veil-color': random.choice([\n",
    "        'unknown', 'n', 'w', 'k', 'y', 'e', 'u', 'p', 'd', 'g', 'r', \n",
    "        'h', 's', 't', 'c', 'o', 'i', 'f', 'a', 'b', 'l', 'z'\n",
    "        ]),\n",
    "    'has-ring': random.choice([\n",
    "        'f', 't', 'h', 'r', 'y', 'c', 'e', 'g', 'l', 's', 'unknown', \n",
    "        'p', 'x', 'k', 'z', 'd', 'o', 'n', 'm', 'i', 'w', 'a'\n",
    "        ]),\n",
    "    'ring-type': random.choice([\n",
    "        'f', 'z', 'e', 'unknown', 'p', 'l', 'g', 'r', 'm', 'y', 'h', \n",
    "        'o', 't', 'a', 'd', 's', 'x', 'b', 'u', 'n', 'w', 'i', 'k', 'c'\n",
    "        ]),\n",
    "    'spore-print-color': random.choice([\n",
    "        'unknown', 'k', 'w', 'p', 'n', 'r', 'u', 'g', 't', 'f', 'd', \n",
    "        'l', 'y', 'a', 's', 'e', 'o', 'c', 'b', 'h', 'x', 'i', 'm'\n",
    "        ]),\n",
    "    'habitat': random.choice([\n",
    "        'd', 'l', 'g', 'h', 'p', 'm', 'u', 'w', 'y', 'unknown', 'n', \n",
    "        'a', 's', 'k', 'z', 'b', 't', 'c', 'e', 'r', 'f', 'o', 'x', 'i'\n",
    "        ]),\n",
    "    'season': random.choice([\n",
    "        'a', 'w', 'u', 's'\n",
    "        ]),\n",
    "    'cap-diameter': random.uniform(0.03, 80.67),\n",
    "    'stem-height': random.uniform(0.00, 88.72),\n",
    "    'stem-width': random.uniform(0.00, 102.90),\n",
    "}"
   ]
  },
  {
   "cell_type": "code",
   "execution_count": 7,
   "metadata": {},
   "outputs": [
    {
     "name": "stderr",
     "output_type": "stream",
     "text": [
      "C:\\Users\\rbbel\\AppData\\Local\\Temp\\ipykernel_11300\\2841883395.py:2: FutureWarning: Passing literal json to 'read_json' is deprecated and will be removed in a future version. To read from a literal string, wrap it in a 'StringIO' object.\n",
      "  pd.read_json(json.dumps(data))\n"
     ]
    },
    {
     "ename": "ValueError",
     "evalue": "If using all scalar values, you must pass an index",
     "output_type": "error",
     "traceback": [
      "\u001b[1;31m---------------------------------------------------------------------------\u001b[0m",
      "\u001b[1;31mValueError\u001b[0m                                Traceback (most recent call last)",
      "Cell \u001b[1;32mIn[7], line 2\u001b[0m\n\u001b[0;32m      1\u001b[0m \u001b[38;5;28;01mimport\u001b[39;00m \u001b[38;5;21;01mjson\u001b[39;00m\n\u001b[1;32m----> 2\u001b[0m \u001b[43mpd\u001b[49m\u001b[38;5;241;43m.\u001b[39;49m\u001b[43mread_json\u001b[49m\u001b[43m(\u001b[49m\u001b[43mjson\u001b[49m\u001b[38;5;241;43m.\u001b[39;49m\u001b[43mdumps\u001b[49m\u001b[43m(\u001b[49m\u001b[43mdata\u001b[49m\u001b[43m)\u001b[49m\u001b[43m)\u001b[49m\n",
      "File \u001b[1;32m~\\.virtualenvs\\MLOps-6AcC-k4j\\lib\\site-packages\\pandas\\io\\json\\_json.py:815\u001b[0m, in \u001b[0;36mread_json\u001b[1;34m(path_or_buf, orient, typ, dtype, convert_axes, convert_dates, keep_default_dates, precise_float, date_unit, encoding, encoding_errors, lines, chunksize, compression, nrows, storage_options, dtype_backend, engine)\u001b[0m\n\u001b[0;32m    813\u001b[0m     \u001b[38;5;28;01mreturn\u001b[39;00m json_reader\n\u001b[0;32m    814\u001b[0m \u001b[38;5;28;01melse\u001b[39;00m:\n\u001b[1;32m--> 815\u001b[0m     \u001b[38;5;28;01mreturn\u001b[39;00m \u001b[43mjson_reader\u001b[49m\u001b[38;5;241;43m.\u001b[39;49m\u001b[43mread\u001b[49m\u001b[43m(\u001b[49m\u001b[43m)\u001b[49m\n",
      "File \u001b[1;32m~\\.virtualenvs\\MLOps-6AcC-k4j\\lib\\site-packages\\pandas\\io\\json\\_json.py:1025\u001b[0m, in \u001b[0;36mJsonReader.read\u001b[1;34m(self)\u001b[0m\n\u001b[0;32m   1023\u001b[0m         obj \u001b[38;5;241m=\u001b[39m \u001b[38;5;28mself\u001b[39m\u001b[38;5;241m.\u001b[39m_get_object_parser(\u001b[38;5;28mself\u001b[39m\u001b[38;5;241m.\u001b[39m_combine_lines(data_lines))\n\u001b[0;32m   1024\u001b[0m \u001b[38;5;28;01melse\u001b[39;00m:\n\u001b[1;32m-> 1025\u001b[0m     obj \u001b[38;5;241m=\u001b[39m \u001b[38;5;28;43mself\u001b[39;49m\u001b[38;5;241;43m.\u001b[39;49m\u001b[43m_get_object_parser\u001b[49m\u001b[43m(\u001b[49m\u001b[38;5;28;43mself\u001b[39;49m\u001b[38;5;241;43m.\u001b[39;49m\u001b[43mdata\u001b[49m\u001b[43m)\u001b[49m\n\u001b[0;32m   1026\u001b[0m \u001b[38;5;28;01mif\u001b[39;00m \u001b[38;5;28mself\u001b[39m\u001b[38;5;241m.\u001b[39mdtype_backend \u001b[38;5;129;01mis\u001b[39;00m \u001b[38;5;129;01mnot\u001b[39;00m lib\u001b[38;5;241m.\u001b[39mno_default:\n\u001b[0;32m   1027\u001b[0m     \u001b[38;5;28;01mreturn\u001b[39;00m obj\u001b[38;5;241m.\u001b[39mconvert_dtypes(\n\u001b[0;32m   1028\u001b[0m         infer_objects\u001b[38;5;241m=\u001b[39m\u001b[38;5;28;01mFalse\u001b[39;00m, dtype_backend\u001b[38;5;241m=\u001b[39m\u001b[38;5;28mself\u001b[39m\u001b[38;5;241m.\u001b[39mdtype_backend\n\u001b[0;32m   1029\u001b[0m     )\n",
      "File \u001b[1;32m~\\.virtualenvs\\MLOps-6AcC-k4j\\lib\\site-packages\\pandas\\io\\json\\_json.py:1051\u001b[0m, in \u001b[0;36mJsonReader._get_object_parser\u001b[1;34m(self, json)\u001b[0m\n\u001b[0;32m   1049\u001b[0m obj \u001b[38;5;241m=\u001b[39m \u001b[38;5;28;01mNone\u001b[39;00m\n\u001b[0;32m   1050\u001b[0m \u001b[38;5;28;01mif\u001b[39;00m typ \u001b[38;5;241m==\u001b[39m \u001b[38;5;124m\"\u001b[39m\u001b[38;5;124mframe\u001b[39m\u001b[38;5;124m\"\u001b[39m:\n\u001b[1;32m-> 1051\u001b[0m     obj \u001b[38;5;241m=\u001b[39m \u001b[43mFrameParser\u001b[49m\u001b[43m(\u001b[49m\u001b[43mjson\u001b[49m\u001b[43m,\u001b[49m\u001b[43m \u001b[49m\u001b[38;5;241;43m*\u001b[39;49m\u001b[38;5;241;43m*\u001b[39;49m\u001b[43mkwargs\u001b[49m\u001b[43m)\u001b[49m\u001b[38;5;241;43m.\u001b[39;49m\u001b[43mparse\u001b[49m\u001b[43m(\u001b[49m\u001b[43m)\u001b[49m\n\u001b[0;32m   1053\u001b[0m \u001b[38;5;28;01mif\u001b[39;00m typ \u001b[38;5;241m==\u001b[39m \u001b[38;5;124m\"\u001b[39m\u001b[38;5;124mseries\u001b[39m\u001b[38;5;124m\"\u001b[39m \u001b[38;5;129;01mor\u001b[39;00m obj \u001b[38;5;129;01mis\u001b[39;00m \u001b[38;5;28;01mNone\u001b[39;00m:\n\u001b[0;32m   1054\u001b[0m     \u001b[38;5;28;01mif\u001b[39;00m \u001b[38;5;129;01mnot\u001b[39;00m \u001b[38;5;28misinstance\u001b[39m(dtype, \u001b[38;5;28mbool\u001b[39m):\n",
      "File \u001b[1;32m~\\.virtualenvs\\MLOps-6AcC-k4j\\lib\\site-packages\\pandas\\io\\json\\_json.py:1187\u001b[0m, in \u001b[0;36mParser.parse\u001b[1;34m(self)\u001b[0m\n\u001b[0;32m   1185\u001b[0m \u001b[38;5;129m@final\u001b[39m\n\u001b[0;32m   1186\u001b[0m \u001b[38;5;28;01mdef\u001b[39;00m \u001b[38;5;21mparse\u001b[39m(\u001b[38;5;28mself\u001b[39m):\n\u001b[1;32m-> 1187\u001b[0m     \u001b[38;5;28;43mself\u001b[39;49m\u001b[38;5;241;43m.\u001b[39;49m\u001b[43m_parse\u001b[49m\u001b[43m(\u001b[49m\u001b[43m)\u001b[49m\n\u001b[0;32m   1189\u001b[0m     \u001b[38;5;28;01mif\u001b[39;00m \u001b[38;5;28mself\u001b[39m\u001b[38;5;241m.\u001b[39mobj \u001b[38;5;129;01mis\u001b[39;00m \u001b[38;5;28;01mNone\u001b[39;00m:\n\u001b[0;32m   1190\u001b[0m         \u001b[38;5;28;01mreturn\u001b[39;00m \u001b[38;5;28;01mNone\u001b[39;00m\n",
      "File \u001b[1;32m~\\.virtualenvs\\MLOps-6AcC-k4j\\lib\\site-packages\\pandas\\io\\json\\_json.py:1402\u001b[0m, in \u001b[0;36mFrameParser._parse\u001b[1;34m(self)\u001b[0m\n\u001b[0;32m   1399\u001b[0m orient \u001b[38;5;241m=\u001b[39m \u001b[38;5;28mself\u001b[39m\u001b[38;5;241m.\u001b[39morient\n\u001b[0;32m   1401\u001b[0m \u001b[38;5;28;01mif\u001b[39;00m orient \u001b[38;5;241m==\u001b[39m \u001b[38;5;124m\"\u001b[39m\u001b[38;5;124mcolumns\u001b[39m\u001b[38;5;124m\"\u001b[39m:\n\u001b[1;32m-> 1402\u001b[0m     \u001b[38;5;28mself\u001b[39m\u001b[38;5;241m.\u001b[39mobj \u001b[38;5;241m=\u001b[39m \u001b[43mDataFrame\u001b[49m\u001b[43m(\u001b[49m\n\u001b[0;32m   1403\u001b[0m \u001b[43m        \u001b[49m\u001b[43mujson_loads\u001b[49m\u001b[43m(\u001b[49m\u001b[43mjson\u001b[49m\u001b[43m,\u001b[49m\u001b[43m \u001b[49m\u001b[43mprecise_float\u001b[49m\u001b[38;5;241;43m=\u001b[39;49m\u001b[38;5;28;43mself\u001b[39;49m\u001b[38;5;241;43m.\u001b[39;49m\u001b[43mprecise_float\u001b[49m\u001b[43m)\u001b[49m\u001b[43m,\u001b[49m\u001b[43m \u001b[49m\u001b[43mdtype\u001b[49m\u001b[38;5;241;43m=\u001b[39;49m\u001b[38;5;28;43;01mNone\u001b[39;49;00m\n\u001b[0;32m   1404\u001b[0m \u001b[43m    \u001b[49m\u001b[43m)\u001b[49m\n\u001b[0;32m   1405\u001b[0m \u001b[38;5;28;01melif\u001b[39;00m orient \u001b[38;5;241m==\u001b[39m \u001b[38;5;124m\"\u001b[39m\u001b[38;5;124msplit\u001b[39m\u001b[38;5;124m\"\u001b[39m:\n\u001b[0;32m   1406\u001b[0m     decoded \u001b[38;5;241m=\u001b[39m {\n\u001b[0;32m   1407\u001b[0m         \u001b[38;5;28mstr\u001b[39m(k): v\n\u001b[0;32m   1408\u001b[0m         \u001b[38;5;28;01mfor\u001b[39;00m k, v \u001b[38;5;129;01min\u001b[39;00m ujson_loads(json, precise_float\u001b[38;5;241m=\u001b[39m\u001b[38;5;28mself\u001b[39m\u001b[38;5;241m.\u001b[39mprecise_float)\u001b[38;5;241m.\u001b[39mitems()\n\u001b[0;32m   1409\u001b[0m     }\n",
      "File \u001b[1;32m~\\.virtualenvs\\MLOps-6AcC-k4j\\lib\\site-packages\\pandas\\core\\frame.py:778\u001b[0m, in \u001b[0;36mDataFrame.__init__\u001b[1;34m(self, data, index, columns, dtype, copy)\u001b[0m\n\u001b[0;32m    772\u001b[0m     mgr \u001b[38;5;241m=\u001b[39m \u001b[38;5;28mself\u001b[39m\u001b[38;5;241m.\u001b[39m_init_mgr(\n\u001b[0;32m    773\u001b[0m         data, axes\u001b[38;5;241m=\u001b[39m{\u001b[38;5;124m\"\u001b[39m\u001b[38;5;124mindex\u001b[39m\u001b[38;5;124m\"\u001b[39m: index, \u001b[38;5;124m\"\u001b[39m\u001b[38;5;124mcolumns\u001b[39m\u001b[38;5;124m\"\u001b[39m: columns}, dtype\u001b[38;5;241m=\u001b[39mdtype, copy\u001b[38;5;241m=\u001b[39mcopy\n\u001b[0;32m    774\u001b[0m     )\n\u001b[0;32m    776\u001b[0m \u001b[38;5;28;01melif\u001b[39;00m \u001b[38;5;28misinstance\u001b[39m(data, \u001b[38;5;28mdict\u001b[39m):\n\u001b[0;32m    777\u001b[0m     \u001b[38;5;66;03m# GH#38939 de facto copy defaults to False only in non-dict cases\u001b[39;00m\n\u001b[1;32m--> 778\u001b[0m     mgr \u001b[38;5;241m=\u001b[39m \u001b[43mdict_to_mgr\u001b[49m\u001b[43m(\u001b[49m\u001b[43mdata\u001b[49m\u001b[43m,\u001b[49m\u001b[43m \u001b[49m\u001b[43mindex\u001b[49m\u001b[43m,\u001b[49m\u001b[43m \u001b[49m\u001b[43mcolumns\u001b[49m\u001b[43m,\u001b[49m\u001b[43m \u001b[49m\u001b[43mdtype\u001b[49m\u001b[38;5;241;43m=\u001b[39;49m\u001b[43mdtype\u001b[49m\u001b[43m,\u001b[49m\u001b[43m \u001b[49m\u001b[43mcopy\u001b[49m\u001b[38;5;241;43m=\u001b[39;49m\u001b[43mcopy\u001b[49m\u001b[43m,\u001b[49m\u001b[43m \u001b[49m\u001b[43mtyp\u001b[49m\u001b[38;5;241;43m=\u001b[39;49m\u001b[43mmanager\u001b[49m\u001b[43m)\u001b[49m\n\u001b[0;32m    779\u001b[0m \u001b[38;5;28;01melif\u001b[39;00m \u001b[38;5;28misinstance\u001b[39m(data, ma\u001b[38;5;241m.\u001b[39mMaskedArray):\n\u001b[0;32m    780\u001b[0m     \u001b[38;5;28;01mfrom\u001b[39;00m \u001b[38;5;21;01mnumpy\u001b[39;00m\u001b[38;5;21;01m.\u001b[39;00m\u001b[38;5;21;01mma\u001b[39;00m \u001b[38;5;28;01mimport\u001b[39;00m mrecords\n",
      "File \u001b[1;32m~\\.virtualenvs\\MLOps-6AcC-k4j\\lib\\site-packages\\pandas\\core\\internals\\construction.py:503\u001b[0m, in \u001b[0;36mdict_to_mgr\u001b[1;34m(data, index, columns, dtype, typ, copy)\u001b[0m\n\u001b[0;32m    499\u001b[0m     \u001b[38;5;28;01melse\u001b[39;00m:\n\u001b[0;32m    500\u001b[0m         \u001b[38;5;66;03m# dtype check to exclude e.g. range objects, scalars\u001b[39;00m\n\u001b[0;32m    501\u001b[0m         arrays \u001b[38;5;241m=\u001b[39m [x\u001b[38;5;241m.\u001b[39mcopy() \u001b[38;5;28;01mif\u001b[39;00m \u001b[38;5;28mhasattr\u001b[39m(x, \u001b[38;5;124m\"\u001b[39m\u001b[38;5;124mdtype\u001b[39m\u001b[38;5;124m\"\u001b[39m) \u001b[38;5;28;01melse\u001b[39;00m x \u001b[38;5;28;01mfor\u001b[39;00m x \u001b[38;5;129;01min\u001b[39;00m arrays]\n\u001b[1;32m--> 503\u001b[0m \u001b[38;5;28;01mreturn\u001b[39;00m \u001b[43marrays_to_mgr\u001b[49m\u001b[43m(\u001b[49m\u001b[43marrays\u001b[49m\u001b[43m,\u001b[49m\u001b[43m \u001b[49m\u001b[43mcolumns\u001b[49m\u001b[43m,\u001b[49m\u001b[43m \u001b[49m\u001b[43mindex\u001b[49m\u001b[43m,\u001b[49m\u001b[43m \u001b[49m\u001b[43mdtype\u001b[49m\u001b[38;5;241;43m=\u001b[39;49m\u001b[43mdtype\u001b[49m\u001b[43m,\u001b[49m\u001b[43m \u001b[49m\u001b[43mtyp\u001b[49m\u001b[38;5;241;43m=\u001b[39;49m\u001b[43mtyp\u001b[49m\u001b[43m,\u001b[49m\u001b[43m \u001b[49m\u001b[43mconsolidate\u001b[49m\u001b[38;5;241;43m=\u001b[39;49m\u001b[43mcopy\u001b[49m\u001b[43m)\u001b[49m\n",
      "File \u001b[1;32m~\\.virtualenvs\\MLOps-6AcC-k4j\\lib\\site-packages\\pandas\\core\\internals\\construction.py:114\u001b[0m, in \u001b[0;36marrays_to_mgr\u001b[1;34m(arrays, columns, index, dtype, verify_integrity, typ, consolidate)\u001b[0m\n\u001b[0;32m    111\u001b[0m \u001b[38;5;28;01mif\u001b[39;00m verify_integrity:\n\u001b[0;32m    112\u001b[0m     \u001b[38;5;66;03m# figure out the index, if necessary\u001b[39;00m\n\u001b[0;32m    113\u001b[0m     \u001b[38;5;28;01mif\u001b[39;00m index \u001b[38;5;129;01mis\u001b[39;00m \u001b[38;5;28;01mNone\u001b[39;00m:\n\u001b[1;32m--> 114\u001b[0m         index \u001b[38;5;241m=\u001b[39m \u001b[43m_extract_index\u001b[49m\u001b[43m(\u001b[49m\u001b[43marrays\u001b[49m\u001b[43m)\u001b[49m\n\u001b[0;32m    115\u001b[0m     \u001b[38;5;28;01melse\u001b[39;00m:\n\u001b[0;32m    116\u001b[0m         index \u001b[38;5;241m=\u001b[39m ensure_index(index)\n",
      "File \u001b[1;32m~\\.virtualenvs\\MLOps-6AcC-k4j\\lib\\site-packages\\pandas\\core\\internals\\construction.py:667\u001b[0m, in \u001b[0;36m_extract_index\u001b[1;34m(data)\u001b[0m\n\u001b[0;32m    664\u001b[0m         \u001b[38;5;28;01mraise\u001b[39;00m \u001b[38;5;167;01mValueError\u001b[39;00m(\u001b[38;5;124m\"\u001b[39m\u001b[38;5;124mPer-column arrays must each be 1-dimensional\u001b[39m\u001b[38;5;124m\"\u001b[39m)\n\u001b[0;32m    666\u001b[0m \u001b[38;5;28;01mif\u001b[39;00m \u001b[38;5;129;01mnot\u001b[39;00m indexes \u001b[38;5;129;01mand\u001b[39;00m \u001b[38;5;129;01mnot\u001b[39;00m raw_lengths:\n\u001b[1;32m--> 667\u001b[0m     \u001b[38;5;28;01mraise\u001b[39;00m \u001b[38;5;167;01mValueError\u001b[39;00m(\u001b[38;5;124m\"\u001b[39m\u001b[38;5;124mIf using all scalar values, you must pass an index\u001b[39m\u001b[38;5;124m\"\u001b[39m)\n\u001b[0;32m    669\u001b[0m \u001b[38;5;28;01mif\u001b[39;00m have_series:\n\u001b[0;32m    670\u001b[0m     index \u001b[38;5;241m=\u001b[39m union_indexes(indexes)\n",
      "\u001b[1;31mValueError\u001b[0m: If using all scalar values, you must pass an index"
     ]
    }
   ],
   "source": [
    "import json\n",
    "pd.read_json(json.dumps(data))"
   ]
  },
  {
   "cell_type": "code",
   "execution_count": 63,
   "metadata": {},
   "outputs": [
    {
     "data": {
      "text/plain": [
       "'+----+-------------+---------------+-------------+------------------------+-------------------+----------------+--------------+-------------+----------------+--------------+-------------+--------------+------------+-------------+---------------------+-----------+----------+----------------+---------------+--------------+\\n|    | cap-shape   | cap-surface   | cap-color   | does-bruise-or-bleed   | gill-attachment   | gill-spacing   | gill-color   | stem-root   | stem-surface   | stem-color   | veil-type   | veil-color   | has-ring   | ring-type   | spore-print-color   | habitat   | season   |   cap-diameter |   stem-height |   stem-width |\\n|----+-------------+---------------+-------------+------------------------+-------------------+----------------+--------------+-------------+----------------+--------------+-------------+--------------+------------+-------------+---------------------+-----------+----------+----------------+---------------+--------------|\\n|  0 | m           | k             | unknown     | n                      | k                 | e              | h            | y           | b              | g            | h           | u            | unknown    | l           | s                   | k         | s        |        10.2295 |       77.5219 |      37.2421 |\\n+----+-------------+---------------+-------------+------------------------+-------------------+----------------+--------------+-------------+----------------+--------------+-------------+--------------+------------+-------------+---------------------+-----------+----------+----------------+---------------+--------------+'"
      ]
     },
     "execution_count": 63,
     "metadata": {},
     "output_type": "execute_result"
    }
   ],
   "source": [
    "from tabulate import tabulate\n",
    "tabulate(pd.DataFrame([data]), headers=pd.DataFrame([data]).columns, tablefmt='psql')"
   ]
  },
  {
   "cell_type": "code",
   "execution_count": 49,
   "metadata": {},
   "outputs": [],
   "source": [
    "df=pd.read_csv('data/train.csv')"
   ]
  },
  {
   "cell_type": "code",
   "execution_count": 29,
   "metadata": {},
   "outputs": [
    {
     "data": {
      "text/html": [
       "<div>\n",
       "<style scoped>\n",
       "    .dataframe tbody tr th:only-of-type {\n",
       "        vertical-align: middle;\n",
       "    }\n",
       "\n",
       "    .dataframe tbody tr th {\n",
       "        vertical-align: top;\n",
       "    }\n",
       "\n",
       "    .dataframe thead th {\n",
       "        text-align: right;\n",
       "    }\n",
       "</style>\n",
       "<table border=\"1\" class=\"dataframe\">\n",
       "  <thead>\n",
       "    <tr style=\"text-align: right;\">\n",
       "      <th></th>\n",
       "      <th>id</th>\n",
       "      <th>class</th>\n",
       "      <th>cap-diameter</th>\n",
       "      <th>cap-shape</th>\n",
       "      <th>cap-surface</th>\n",
       "      <th>cap-color</th>\n",
       "      <th>does-bruise-or-bleed</th>\n",
       "      <th>gill-attachment</th>\n",
       "      <th>gill-spacing</th>\n",
       "      <th>gill-color</th>\n",
       "      <th>...</th>\n",
       "      <th>stem-root</th>\n",
       "      <th>stem-surface</th>\n",
       "      <th>stem-color</th>\n",
       "      <th>veil-type</th>\n",
       "      <th>veil-color</th>\n",
       "      <th>has-ring</th>\n",
       "      <th>ring-type</th>\n",
       "      <th>spore-print-color</th>\n",
       "      <th>habitat</th>\n",
       "      <th>season</th>\n",
       "    </tr>\n",
       "  </thead>\n",
       "  <tbody>\n",
       "    <tr>\n",
       "      <th>0</th>\n",
       "      <td>0</td>\n",
       "      <td>e</td>\n",
       "      <td>8.80</td>\n",
       "      <td>f</td>\n",
       "      <td>s</td>\n",
       "      <td>u</td>\n",
       "      <td>f</td>\n",
       "      <td>a</td>\n",
       "      <td>c</td>\n",
       "      <td>w</td>\n",
       "      <td>...</td>\n",
       "      <td>NaN</td>\n",
       "      <td>NaN</td>\n",
       "      <td>w</td>\n",
       "      <td>NaN</td>\n",
       "      <td>NaN</td>\n",
       "      <td>f</td>\n",
       "      <td>f</td>\n",
       "      <td>NaN</td>\n",
       "      <td>d</td>\n",
       "      <td>a</td>\n",
       "    </tr>\n",
       "    <tr>\n",
       "      <th>1</th>\n",
       "      <td>1</td>\n",
       "      <td>p</td>\n",
       "      <td>4.51</td>\n",
       "      <td>x</td>\n",
       "      <td>h</td>\n",
       "      <td>o</td>\n",
       "      <td>f</td>\n",
       "      <td>a</td>\n",
       "      <td>c</td>\n",
       "      <td>n</td>\n",
       "      <td>...</td>\n",
       "      <td>NaN</td>\n",
       "      <td>y</td>\n",
       "      <td>o</td>\n",
       "      <td>NaN</td>\n",
       "      <td>NaN</td>\n",
       "      <td>t</td>\n",
       "      <td>z</td>\n",
       "      <td>NaN</td>\n",
       "      <td>d</td>\n",
       "      <td>w</td>\n",
       "    </tr>\n",
       "    <tr>\n",
       "      <th>2</th>\n",
       "      <td>2</td>\n",
       "      <td>e</td>\n",
       "      <td>6.94</td>\n",
       "      <td>f</td>\n",
       "      <td>s</td>\n",
       "      <td>b</td>\n",
       "      <td>f</td>\n",
       "      <td>x</td>\n",
       "      <td>c</td>\n",
       "      <td>w</td>\n",
       "      <td>...</td>\n",
       "      <td>NaN</td>\n",
       "      <td>s</td>\n",
       "      <td>n</td>\n",
       "      <td>NaN</td>\n",
       "      <td>NaN</td>\n",
       "      <td>f</td>\n",
       "      <td>f</td>\n",
       "      <td>NaN</td>\n",
       "      <td>l</td>\n",
       "      <td>w</td>\n",
       "    </tr>\n",
       "    <tr>\n",
       "      <th>3</th>\n",
       "      <td>3</td>\n",
       "      <td>e</td>\n",
       "      <td>3.88</td>\n",
       "      <td>f</td>\n",
       "      <td>y</td>\n",
       "      <td>g</td>\n",
       "      <td>f</td>\n",
       "      <td>s</td>\n",
       "      <td>NaN</td>\n",
       "      <td>g</td>\n",
       "      <td>...</td>\n",
       "      <td>NaN</td>\n",
       "      <td>NaN</td>\n",
       "      <td>w</td>\n",
       "      <td>NaN</td>\n",
       "      <td>NaN</td>\n",
       "      <td>f</td>\n",
       "      <td>f</td>\n",
       "      <td>NaN</td>\n",
       "      <td>d</td>\n",
       "      <td>u</td>\n",
       "    </tr>\n",
       "    <tr>\n",
       "      <th>4</th>\n",
       "      <td>4</td>\n",
       "      <td>e</td>\n",
       "      <td>5.85</td>\n",
       "      <td>x</td>\n",
       "      <td>l</td>\n",
       "      <td>w</td>\n",
       "      <td>f</td>\n",
       "      <td>d</td>\n",
       "      <td>NaN</td>\n",
       "      <td>w</td>\n",
       "      <td>...</td>\n",
       "      <td>NaN</td>\n",
       "      <td>NaN</td>\n",
       "      <td>w</td>\n",
       "      <td>NaN</td>\n",
       "      <td>NaN</td>\n",
       "      <td>f</td>\n",
       "      <td>f</td>\n",
       "      <td>NaN</td>\n",
       "      <td>g</td>\n",
       "      <td>a</td>\n",
       "    </tr>\n",
       "    <tr>\n",
       "      <th>...</th>\n",
       "      <td>...</td>\n",
       "      <td>...</td>\n",
       "      <td>...</td>\n",
       "      <td>...</td>\n",
       "      <td>...</td>\n",
       "      <td>...</td>\n",
       "      <td>...</td>\n",
       "      <td>...</td>\n",
       "      <td>...</td>\n",
       "      <td>...</td>\n",
       "      <td>...</td>\n",
       "      <td>...</td>\n",
       "      <td>...</td>\n",
       "      <td>...</td>\n",
       "      <td>...</td>\n",
       "      <td>...</td>\n",
       "      <td>...</td>\n",
       "      <td>...</td>\n",
       "      <td>...</td>\n",
       "      <td>...</td>\n",
       "      <td>...</td>\n",
       "    </tr>\n",
       "    <tr>\n",
       "      <th>3116940</th>\n",
       "      <td>3116940</td>\n",
       "      <td>e</td>\n",
       "      <td>9.29</td>\n",
       "      <td>f</td>\n",
       "      <td>NaN</td>\n",
       "      <td>n</td>\n",
       "      <td>t</td>\n",
       "      <td>NaN</td>\n",
       "      <td>NaN</td>\n",
       "      <td>w</td>\n",
       "      <td>...</td>\n",
       "      <td>b</td>\n",
       "      <td>NaN</td>\n",
       "      <td>w</td>\n",
       "      <td>u</td>\n",
       "      <td>w</td>\n",
       "      <td>t</td>\n",
       "      <td>g</td>\n",
       "      <td>NaN</td>\n",
       "      <td>d</td>\n",
       "      <td>u</td>\n",
       "    </tr>\n",
       "    <tr>\n",
       "      <th>3116941</th>\n",
       "      <td>3116941</td>\n",
       "      <td>e</td>\n",
       "      <td>10.88</td>\n",
       "      <td>s</td>\n",
       "      <td>NaN</td>\n",
       "      <td>w</td>\n",
       "      <td>t</td>\n",
       "      <td>d</td>\n",
       "      <td>c</td>\n",
       "      <td>p</td>\n",
       "      <td>...</td>\n",
       "      <td>NaN</td>\n",
       "      <td>NaN</td>\n",
       "      <td>w</td>\n",
       "      <td>NaN</td>\n",
       "      <td>NaN</td>\n",
       "      <td>f</td>\n",
       "      <td>f</td>\n",
       "      <td>NaN</td>\n",
       "      <td>d</td>\n",
       "      <td>u</td>\n",
       "    </tr>\n",
       "    <tr>\n",
       "      <th>3116942</th>\n",
       "      <td>3116942</td>\n",
       "      <td>p</td>\n",
       "      <td>7.82</td>\n",
       "      <td>x</td>\n",
       "      <td>e</td>\n",
       "      <td>e</td>\n",
       "      <td>f</td>\n",
       "      <td>a</td>\n",
       "      <td>NaN</td>\n",
       "      <td>w</td>\n",
       "      <td>...</td>\n",
       "      <td>NaN</td>\n",
       "      <td>NaN</td>\n",
       "      <td>y</td>\n",
       "      <td>NaN</td>\n",
       "      <td>w</td>\n",
       "      <td>t</td>\n",
       "      <td>z</td>\n",
       "      <td>NaN</td>\n",
       "      <td>d</td>\n",
       "      <td>a</td>\n",
       "    </tr>\n",
       "    <tr>\n",
       "      <th>3116943</th>\n",
       "      <td>3116943</td>\n",
       "      <td>e</td>\n",
       "      <td>9.45</td>\n",
       "      <td>p</td>\n",
       "      <td>i</td>\n",
       "      <td>n</td>\n",
       "      <td>t</td>\n",
       "      <td>e</td>\n",
       "      <td>NaN</td>\n",
       "      <td>p</td>\n",
       "      <td>...</td>\n",
       "      <td>NaN</td>\n",
       "      <td>y</td>\n",
       "      <td>w</td>\n",
       "      <td>NaN</td>\n",
       "      <td>NaN</td>\n",
       "      <td>t</td>\n",
       "      <td>p</td>\n",
       "      <td>NaN</td>\n",
       "      <td>d</td>\n",
       "      <td>u</td>\n",
       "    </tr>\n",
       "    <tr>\n",
       "      <th>3116944</th>\n",
       "      <td>3116944</td>\n",
       "      <td>p</td>\n",
       "      <td>3.20</td>\n",
       "      <td>x</td>\n",
       "      <td>s</td>\n",
       "      <td>g</td>\n",
       "      <td>f</td>\n",
       "      <td>d</td>\n",
       "      <td>c</td>\n",
       "      <td>w</td>\n",
       "      <td>...</td>\n",
       "      <td>NaN</td>\n",
       "      <td>NaN</td>\n",
       "      <td>w</td>\n",
       "      <td>NaN</td>\n",
       "      <td>NaN</td>\n",
       "      <td>f</td>\n",
       "      <td>f</td>\n",
       "      <td>NaN</td>\n",
       "      <td>g</td>\n",
       "      <td>u</td>\n",
       "    </tr>\n",
       "  </tbody>\n",
       "</table>\n",
       "<p>3116945 rows × 22 columns</p>\n",
       "</div>"
      ],
      "text/plain": [
       "              id class  cap-diameter cap-shape cap-surface cap-color  \\\n",
       "0              0     e          8.80         f           s         u   \n",
       "1              1     p          4.51         x           h         o   \n",
       "2              2     e          6.94         f           s         b   \n",
       "3              3     e          3.88         f           y         g   \n",
       "4              4     e          5.85         x           l         w   \n",
       "...          ...   ...           ...       ...         ...       ...   \n",
       "3116940  3116940     e          9.29         f         NaN         n   \n",
       "3116941  3116941     e         10.88         s         NaN         w   \n",
       "3116942  3116942     p          7.82         x           e         e   \n",
       "3116943  3116943     e          9.45         p           i         n   \n",
       "3116944  3116944     p          3.20         x           s         g   \n",
       "\n",
       "        does-bruise-or-bleed gill-attachment gill-spacing gill-color  ...  \\\n",
       "0                          f               a            c          w  ...   \n",
       "1                          f               a            c          n  ...   \n",
       "2                          f               x            c          w  ...   \n",
       "3                          f               s          NaN          g  ...   \n",
       "4                          f               d          NaN          w  ...   \n",
       "...                      ...             ...          ...        ...  ...   \n",
       "3116940                    t             NaN          NaN          w  ...   \n",
       "3116941                    t               d            c          p  ...   \n",
       "3116942                    f               a          NaN          w  ...   \n",
       "3116943                    t               e          NaN          p  ...   \n",
       "3116944                    f               d            c          w  ...   \n",
       "\n",
       "         stem-root  stem-surface stem-color veil-type veil-color has-ring  \\\n",
       "0              NaN           NaN          w       NaN        NaN        f   \n",
       "1              NaN             y          o       NaN        NaN        t   \n",
       "2              NaN             s          n       NaN        NaN        f   \n",
       "3              NaN           NaN          w       NaN        NaN        f   \n",
       "4              NaN           NaN          w       NaN        NaN        f   \n",
       "...            ...           ...        ...       ...        ...      ...   \n",
       "3116940          b           NaN          w         u          w        t   \n",
       "3116941        NaN           NaN          w       NaN        NaN        f   \n",
       "3116942        NaN           NaN          y       NaN          w        t   \n",
       "3116943        NaN             y          w       NaN        NaN        t   \n",
       "3116944        NaN           NaN          w       NaN        NaN        f   \n",
       "\n",
       "        ring-type spore-print-color habitat season  \n",
       "0               f               NaN       d      a  \n",
       "1               z               NaN       d      w  \n",
       "2               f               NaN       l      w  \n",
       "3               f               NaN       d      u  \n",
       "4               f               NaN       g      a  \n",
       "...           ...               ...     ...    ...  \n",
       "3116940         g               NaN       d      u  \n",
       "3116941         f               NaN       d      u  \n",
       "3116942         z               NaN       d      a  \n",
       "3116943         p               NaN       d      u  \n",
       "3116944         f               NaN       g      u  \n",
       "\n",
       "[3116945 rows x 22 columns]"
      ]
     },
     "execution_count": 29,
     "metadata": {},
     "output_type": "execute_result"
    }
   ],
   "source": [
    "df"
   ]
  },
  {
   "cell_type": "code",
   "execution_count": 30,
   "metadata": {},
   "outputs": [],
   "source": [
    "num = df.select_dtypes(exclude='object')"
   ]
  },
  {
   "cell_type": "code",
   "execution_count": 34,
   "metadata": {},
   "outputs": [
    {
     "data": {
      "text/plain": [
       "id              0.00\n",
       "cap-diameter    0.03\n",
       "stem-height     0.00\n",
       "stem-width      0.00\n",
       "dtype: float64"
      ]
     },
     "execution_count": 34,
     "metadata": {},
     "output_type": "execute_result"
    }
   ],
   "source": [
    "num.min()"
   ]
  },
  {
   "cell_type": "code",
   "execution_count": 32,
   "metadata": {},
   "outputs": [
    {
     "name": "stderr",
     "output_type": "stream",
     "text": [
      "IOPub data rate exceeded.\n",
      "The Jupyter server will temporarily stop sending output\n",
      "to the client in order to avoid crashing it.\n",
      "To change this limit, set the config variable\n",
      "`--ServerApp.iopub_data_rate_limit`.\n",
      "\n",
      "Current values:\n",
      "ServerApp.iopub_data_rate_limit=1000000.0 (bytes/sec)\n",
      "ServerApp.rate_limit_window=3.0 (secs)\n",
      "\n"
     ]
    }
   ],
   "source": [
    "for col in num.columns:\n",
    "    print(f\"'{col}': {num[col].unique().tolist()}\")"
   ]
  },
  {
   "cell_type": "code",
   "execution_count": null,
   "metadata": {},
   "outputs": [],
   "source": [
    "'cap-diameter': random.uniform(),\n",
    "'stem-height': random.uniform(),\n",
    "'stem-width': random.uniform(),\n"
   ]
  },
  {
   "cell_type": "code",
   "execution_count": 2,
   "metadata": {},
   "outputs": [],
   "source": [
    "import pandas as pd"
   ]
  },
  {
   "cell_type": "code",
   "execution_count": 4,
   "metadata": {},
   "outputs": [
    {
     "data": {
      "text/html": [
       "<div>\n",
       "<style scoped>\n",
       "    .dataframe tbody tr th:only-of-type {\n",
       "        vertical-align: middle;\n",
       "    }\n",
       "\n",
       "    .dataframe tbody tr th {\n",
       "        vertical-align: top;\n",
       "    }\n",
       "\n",
       "    .dataframe thead th {\n",
       "        text-align: right;\n",
       "    }\n",
       "</style>\n",
       "<table border=\"1\" class=\"dataframe\">\n",
       "  <thead>\n",
       "    <tr style=\"text-align: right;\">\n",
       "      <th></th>\n",
       "      <th>id</th>\n",
       "      <th>class</th>\n",
       "      <th>cap-diameter</th>\n",
       "      <th>cap-shape</th>\n",
       "      <th>cap-surface</th>\n",
       "      <th>cap-color</th>\n",
       "      <th>does-bruise-or-bleed</th>\n",
       "      <th>gill-attachment</th>\n",
       "      <th>gill-spacing</th>\n",
       "      <th>gill-color</th>\n",
       "      <th>...</th>\n",
       "      <th>stem-root</th>\n",
       "      <th>stem-surface</th>\n",
       "      <th>stem-color</th>\n",
       "      <th>veil-type</th>\n",
       "      <th>veil-color</th>\n",
       "      <th>has-ring</th>\n",
       "      <th>ring-type</th>\n",
       "      <th>spore-print-color</th>\n",
       "      <th>habitat</th>\n",
       "      <th>season</th>\n",
       "    </tr>\n",
       "  </thead>\n",
       "  <tbody>\n",
       "    <tr>\n",
       "      <th>0</th>\n",
       "      <td>0</td>\n",
       "      <td>e</td>\n",
       "      <td>8.80</td>\n",
       "      <td>f</td>\n",
       "      <td>s</td>\n",
       "      <td>u</td>\n",
       "      <td>f</td>\n",
       "      <td>a</td>\n",
       "      <td>c</td>\n",
       "      <td>w</td>\n",
       "      <td>...</td>\n",
       "      <td>NaN</td>\n",
       "      <td>NaN</td>\n",
       "      <td>w</td>\n",
       "      <td>NaN</td>\n",
       "      <td>NaN</td>\n",
       "      <td>f</td>\n",
       "      <td>f</td>\n",
       "      <td>NaN</td>\n",
       "      <td>d</td>\n",
       "      <td>a</td>\n",
       "    </tr>\n",
       "    <tr>\n",
       "      <th>1</th>\n",
       "      <td>1</td>\n",
       "      <td>p</td>\n",
       "      <td>4.51</td>\n",
       "      <td>x</td>\n",
       "      <td>h</td>\n",
       "      <td>o</td>\n",
       "      <td>f</td>\n",
       "      <td>a</td>\n",
       "      <td>c</td>\n",
       "      <td>n</td>\n",
       "      <td>...</td>\n",
       "      <td>NaN</td>\n",
       "      <td>y</td>\n",
       "      <td>o</td>\n",
       "      <td>NaN</td>\n",
       "      <td>NaN</td>\n",
       "      <td>t</td>\n",
       "      <td>z</td>\n",
       "      <td>NaN</td>\n",
       "      <td>d</td>\n",
       "      <td>w</td>\n",
       "    </tr>\n",
       "    <tr>\n",
       "      <th>2</th>\n",
       "      <td>2</td>\n",
       "      <td>e</td>\n",
       "      <td>6.94</td>\n",
       "      <td>f</td>\n",
       "      <td>s</td>\n",
       "      <td>b</td>\n",
       "      <td>f</td>\n",
       "      <td>x</td>\n",
       "      <td>c</td>\n",
       "      <td>w</td>\n",
       "      <td>...</td>\n",
       "      <td>NaN</td>\n",
       "      <td>s</td>\n",
       "      <td>n</td>\n",
       "      <td>NaN</td>\n",
       "      <td>NaN</td>\n",
       "      <td>f</td>\n",
       "      <td>f</td>\n",
       "      <td>NaN</td>\n",
       "      <td>l</td>\n",
       "      <td>w</td>\n",
       "    </tr>\n",
       "    <tr>\n",
       "      <th>3</th>\n",
       "      <td>3</td>\n",
       "      <td>e</td>\n",
       "      <td>3.88</td>\n",
       "      <td>f</td>\n",
       "      <td>y</td>\n",
       "      <td>g</td>\n",
       "      <td>f</td>\n",
       "      <td>s</td>\n",
       "      <td>NaN</td>\n",
       "      <td>g</td>\n",
       "      <td>...</td>\n",
       "      <td>NaN</td>\n",
       "      <td>NaN</td>\n",
       "      <td>w</td>\n",
       "      <td>NaN</td>\n",
       "      <td>NaN</td>\n",
       "      <td>f</td>\n",
       "      <td>f</td>\n",
       "      <td>NaN</td>\n",
       "      <td>d</td>\n",
       "      <td>u</td>\n",
       "    </tr>\n",
       "    <tr>\n",
       "      <th>4</th>\n",
       "      <td>4</td>\n",
       "      <td>e</td>\n",
       "      <td>5.85</td>\n",
       "      <td>x</td>\n",
       "      <td>l</td>\n",
       "      <td>w</td>\n",
       "      <td>f</td>\n",
       "      <td>d</td>\n",
       "      <td>NaN</td>\n",
       "      <td>w</td>\n",
       "      <td>...</td>\n",
       "      <td>NaN</td>\n",
       "      <td>NaN</td>\n",
       "      <td>w</td>\n",
       "      <td>NaN</td>\n",
       "      <td>NaN</td>\n",
       "      <td>f</td>\n",
       "      <td>f</td>\n",
       "      <td>NaN</td>\n",
       "      <td>g</td>\n",
       "      <td>a</td>\n",
       "    </tr>\n",
       "    <tr>\n",
       "      <th>...</th>\n",
       "      <td>...</td>\n",
       "      <td>...</td>\n",
       "      <td>...</td>\n",
       "      <td>...</td>\n",
       "      <td>...</td>\n",
       "      <td>...</td>\n",
       "      <td>...</td>\n",
       "      <td>...</td>\n",
       "      <td>...</td>\n",
       "      <td>...</td>\n",
       "      <td>...</td>\n",
       "      <td>...</td>\n",
       "      <td>...</td>\n",
       "      <td>...</td>\n",
       "      <td>...</td>\n",
       "      <td>...</td>\n",
       "      <td>...</td>\n",
       "      <td>...</td>\n",
       "      <td>...</td>\n",
       "      <td>...</td>\n",
       "      <td>...</td>\n",
       "    </tr>\n",
       "    <tr>\n",
       "      <th>3116940</th>\n",
       "      <td>3116940</td>\n",
       "      <td>e</td>\n",
       "      <td>9.29</td>\n",
       "      <td>f</td>\n",
       "      <td>NaN</td>\n",
       "      <td>n</td>\n",
       "      <td>t</td>\n",
       "      <td>NaN</td>\n",
       "      <td>NaN</td>\n",
       "      <td>w</td>\n",
       "      <td>...</td>\n",
       "      <td>b</td>\n",
       "      <td>NaN</td>\n",
       "      <td>w</td>\n",
       "      <td>u</td>\n",
       "      <td>w</td>\n",
       "      <td>t</td>\n",
       "      <td>g</td>\n",
       "      <td>NaN</td>\n",
       "      <td>d</td>\n",
       "      <td>u</td>\n",
       "    </tr>\n",
       "    <tr>\n",
       "      <th>3116941</th>\n",
       "      <td>3116941</td>\n",
       "      <td>e</td>\n",
       "      <td>10.88</td>\n",
       "      <td>s</td>\n",
       "      <td>NaN</td>\n",
       "      <td>w</td>\n",
       "      <td>t</td>\n",
       "      <td>d</td>\n",
       "      <td>c</td>\n",
       "      <td>p</td>\n",
       "      <td>...</td>\n",
       "      <td>NaN</td>\n",
       "      <td>NaN</td>\n",
       "      <td>w</td>\n",
       "      <td>NaN</td>\n",
       "      <td>NaN</td>\n",
       "      <td>f</td>\n",
       "      <td>f</td>\n",
       "      <td>NaN</td>\n",
       "      <td>d</td>\n",
       "      <td>u</td>\n",
       "    </tr>\n",
       "    <tr>\n",
       "      <th>3116942</th>\n",
       "      <td>3116942</td>\n",
       "      <td>p</td>\n",
       "      <td>7.82</td>\n",
       "      <td>x</td>\n",
       "      <td>e</td>\n",
       "      <td>e</td>\n",
       "      <td>f</td>\n",
       "      <td>a</td>\n",
       "      <td>NaN</td>\n",
       "      <td>w</td>\n",
       "      <td>...</td>\n",
       "      <td>NaN</td>\n",
       "      <td>NaN</td>\n",
       "      <td>y</td>\n",
       "      <td>NaN</td>\n",
       "      <td>w</td>\n",
       "      <td>t</td>\n",
       "      <td>z</td>\n",
       "      <td>NaN</td>\n",
       "      <td>d</td>\n",
       "      <td>a</td>\n",
       "    </tr>\n",
       "    <tr>\n",
       "      <th>3116943</th>\n",
       "      <td>3116943</td>\n",
       "      <td>e</td>\n",
       "      <td>9.45</td>\n",
       "      <td>p</td>\n",
       "      <td>i</td>\n",
       "      <td>n</td>\n",
       "      <td>t</td>\n",
       "      <td>e</td>\n",
       "      <td>NaN</td>\n",
       "      <td>p</td>\n",
       "      <td>...</td>\n",
       "      <td>NaN</td>\n",
       "      <td>y</td>\n",
       "      <td>w</td>\n",
       "      <td>NaN</td>\n",
       "      <td>NaN</td>\n",
       "      <td>t</td>\n",
       "      <td>p</td>\n",
       "      <td>NaN</td>\n",
       "      <td>d</td>\n",
       "      <td>u</td>\n",
       "    </tr>\n",
       "    <tr>\n",
       "      <th>3116944</th>\n",
       "      <td>3116944</td>\n",
       "      <td>p</td>\n",
       "      <td>3.20</td>\n",
       "      <td>x</td>\n",
       "      <td>s</td>\n",
       "      <td>g</td>\n",
       "      <td>f</td>\n",
       "      <td>d</td>\n",
       "      <td>c</td>\n",
       "      <td>w</td>\n",
       "      <td>...</td>\n",
       "      <td>NaN</td>\n",
       "      <td>NaN</td>\n",
       "      <td>w</td>\n",
       "      <td>NaN</td>\n",
       "      <td>NaN</td>\n",
       "      <td>f</td>\n",
       "      <td>f</td>\n",
       "      <td>NaN</td>\n",
       "      <td>g</td>\n",
       "      <td>u</td>\n",
       "    </tr>\n",
       "  </tbody>\n",
       "</table>\n",
       "<p>3116945 rows × 22 columns</p>\n",
       "</div>"
      ],
      "text/plain": [
       "              id class  cap-diameter cap-shape cap-surface cap-color  \\\n",
       "0              0     e          8.80         f           s         u   \n",
       "1              1     p          4.51         x           h         o   \n",
       "2              2     e          6.94         f           s         b   \n",
       "3              3     e          3.88         f           y         g   \n",
       "4              4     e          5.85         x           l         w   \n",
       "...          ...   ...           ...       ...         ...       ...   \n",
       "3116940  3116940     e          9.29         f         NaN         n   \n",
       "3116941  3116941     e         10.88         s         NaN         w   \n",
       "3116942  3116942     p          7.82         x           e         e   \n",
       "3116943  3116943     e          9.45         p           i         n   \n",
       "3116944  3116944     p          3.20         x           s         g   \n",
       "\n",
       "        does-bruise-or-bleed gill-attachment gill-spacing gill-color  ...  \\\n",
       "0                          f               a            c          w  ...   \n",
       "1                          f               a            c          n  ...   \n",
       "2                          f               x            c          w  ...   \n",
       "3                          f               s          NaN          g  ...   \n",
       "4                          f               d          NaN          w  ...   \n",
       "...                      ...             ...          ...        ...  ...   \n",
       "3116940                    t             NaN          NaN          w  ...   \n",
       "3116941                    t               d            c          p  ...   \n",
       "3116942                    f               a          NaN          w  ...   \n",
       "3116943                    t               e          NaN          p  ...   \n",
       "3116944                    f               d            c          w  ...   \n",
       "\n",
       "         stem-root  stem-surface stem-color veil-type veil-color has-ring  \\\n",
       "0              NaN           NaN          w       NaN        NaN        f   \n",
       "1              NaN             y          o       NaN        NaN        t   \n",
       "2              NaN             s          n       NaN        NaN        f   \n",
       "3              NaN           NaN          w       NaN        NaN        f   \n",
       "4              NaN           NaN          w       NaN        NaN        f   \n",
       "...            ...           ...        ...       ...        ...      ...   \n",
       "3116940          b           NaN          w         u          w        t   \n",
       "3116941        NaN           NaN          w       NaN        NaN        f   \n",
       "3116942        NaN           NaN          y       NaN          w        t   \n",
       "3116943        NaN             y          w       NaN        NaN        t   \n",
       "3116944        NaN           NaN          w       NaN        NaN        f   \n",
       "\n",
       "        ring-type spore-print-color habitat season  \n",
       "0               f               NaN       d      a  \n",
       "1               z               NaN       d      w  \n",
       "2               f               NaN       l      w  \n",
       "3               f               NaN       d      u  \n",
       "4               f               NaN       g      a  \n",
       "...           ...               ...     ...    ...  \n",
       "3116940         g               NaN       d      u  \n",
       "3116941         f               NaN       d      u  \n",
       "3116942         z               NaN       d      a  \n",
       "3116943         p               NaN       d      u  \n",
       "3116944         f               NaN       g      u  \n",
       "\n",
       "[3116945 rows x 22 columns]"
      ]
     },
     "execution_count": 4,
     "metadata": {},
     "output_type": "execute_result"
    }
   ],
   "source": [
    "pd.read_csv(\"monitoring/metrics_app/datasets/mushroom/reference.csv\")."
   ]
  },
  {
   "cell_type": "code",
   "execution_count": null,
   "metadata": {},
   "outputs": [],
   "source": []
  }
 ],
 "metadata": {
  "kernelspec": {
   "display_name": "Python 3 (ipykernel)",
   "language": "python",
   "name": "python3"
  },
  "language_info": {
   "codemirror_mode": {
    "name": "ipython",
    "version": 3
   },
   "file_extension": ".py",
   "mimetype": "text/x-python",
   "name": "python",
   "nbconvert_exporter": "python",
   "pygments_lexer": "ipython3",
   "version": "3.9.12"
  }
 },
 "nbformat": 4,
 "nbformat_minor": 4
}
